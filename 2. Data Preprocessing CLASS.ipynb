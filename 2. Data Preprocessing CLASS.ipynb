{
 "cells": [
  {
   "cell_type": "markdown",
   "id": "1bd584e7",
   "metadata": {
    "id": "1bd584e7"
   },
   "source": [
    "In this course, we will cover important concepts and techniques related to handling missing data, outliers, categorical variables, feature creation and feature scaling and normalization. These topics are fundamental for preparing data before conducting thorough analysis. We will explore practical approaches and strategies that will enable you to effectively preprocess data and lay a strong foundation for your data analysis journey.\n"
   ]
  },
  {
   "cell_type": "markdown",
   "id": "20fcad7d",
   "metadata": {
    "id": "20fcad7d"
   },
   "source": [
    "# 1. Handling missing data"
   ]
  },
  {
   "cell_type": "markdown",
   "id": "1f708590",
   "metadata": {
    "id": "1f708590"
   },
   "source": [
    "Missing data (or missing values) is defined as the data value that is not stored for a variable in the observation of interest. The problem of\n",
    "missing data is relatively common in almost all research and can have a significant effect on the conclusions that can be drawn from the data:\n",
    "missing data can reduce the statistical power of a study and can produce biased estimates, leading to invalid conclusions"
   ]
  },
  {
   "cell_type": "markdown",
   "id": "39db251e",
   "metadata": {
    "id": "39db251e"
   },
   "source": [
    "## 1.1 Types of missing data"
   ]
  },
  {
   "cell_type": "markdown",
   "id": "1f570d95",
   "metadata": {
    "id": "1f570d95"
   },
   "source": [
    "**Missing Completely at Random (MCAR)**  <br>\n",
    "When data is completely missing at random across the dataset with no discernable pattern. <br>\n",
    "Example: <br>\n",
    "*You note that there are a few missing values in your holiday spending dataset. Some people started answering your survey but dropped out or skipped a question. However, you note that you have data points from a wide distribution, ranging from low to high values. Therefore, you conclude that the missing values aren’t related to any specific holiday spending amount range.*"
   ]
  },
  {
   "cell_type": "code",
   "execution_count": 1,
   "id": "9cd14d67",
   "metadata": {
    "id": "9cd14d67",
    "outputId": "80efb6a8-f245-4f45-c693-f64df6aa0d02"
   },
   "outputs": [
    {
     "data": {
      "text/html": [
       "<div>\n",
       "<style scoped>\n",
       "    .dataframe tbody tr th:only-of-type {\n",
       "        vertical-align: middle;\n",
       "    }\n",
       "\n",
       "    .dataframe tbody tr th {\n",
       "        vertical-align: top;\n",
       "    }\n",
       "\n",
       "    .dataframe thead th {\n",
       "        text-align: right;\n",
       "    }\n",
       "</style>\n",
       "<table border=\"1\" class=\"dataframe\">\n",
       "  <thead>\n",
       "    <tr style=\"text-align: right;\">\n",
       "      <th></th>\n",
       "      <th>ID</th>\n",
       "      <th>Spending</th>\n",
       "    </tr>\n",
       "  </thead>\n",
       "  <tbody>\n",
       "    <tr>\n",
       "      <th>0</th>\n",
       "      <td>1</td>\n",
       "      <td>98.896703</td>\n",
       "    </tr>\n",
       "    <tr>\n",
       "      <th>1</th>\n",
       "      <td>2</td>\n",
       "      <td>91.794067</td>\n",
       "    </tr>\n",
       "    <tr>\n",
       "      <th>2</th>\n",
       "      <td>3</td>\n",
       "      <td>80.038136</td>\n",
       "    </tr>\n",
       "    <tr>\n",
       "      <th>3</th>\n",
       "      <td>4</td>\n",
       "      <td>NaN</td>\n",
       "    </tr>\n",
       "    <tr>\n",
       "      <th>4</th>\n",
       "      <td>5</td>\n",
       "      <td>48.966429</td>\n",
       "    </tr>\n",
       "    <tr>\n",
       "      <th>5</th>\n",
       "      <td>6</td>\n",
       "      <td>21.426120</td>\n",
       "    </tr>\n",
       "    <tr>\n",
       "      <th>6</th>\n",
       "      <td>7</td>\n",
       "      <td>61.987856</td>\n",
       "    </tr>\n",
       "    <tr>\n",
       "      <th>7</th>\n",
       "      <td>8</td>\n",
       "      <td>86.658701</td>\n",
       "    </tr>\n",
       "    <tr>\n",
       "      <th>8</th>\n",
       "      <td>9</td>\n",
       "      <td>NaN</td>\n",
       "    </tr>\n",
       "    <tr>\n",
       "      <th>9</th>\n",
       "      <td>10</td>\n",
       "      <td>NaN</td>\n",
       "    </tr>\n",
       "  </tbody>\n",
       "</table>\n",
       "</div>"
      ],
      "text/plain": [
       "   ID   Spending\n",
       "0   1  98.896703\n",
       "1   2  91.794067\n",
       "2   3  80.038136\n",
       "3   4        NaN\n",
       "4   5  48.966429\n",
       "5   6  21.426120\n",
       "6   7  61.987856\n",
       "7   8  86.658701\n",
       "8   9        NaN\n",
       "9  10        NaN"
      ]
     },
     "metadata": {},
     "output_type": "display_data"
    }
   ],
   "source": [
    "import pandas as pd\n",
    "import numpy as np\n",
    "\n",
    "# Generate a dataset with holiday spending data\n",
    "holiday_spending = pd.DataFrame({\n",
    "    'ID': range(1, 11),  # Participant ID\n",
    "    'Spending': np.random.uniform(10, 100, 10)  # Holiday spending amount\n",
    "})\n",
    "\n",
    "# Introduce MCAR missing values\n",
    "missing_indices = np.random.choice(holiday_spending.index, size=3, replace=False)\n",
    "holiday_spending.loc[missing_indices, 'Spending'] = np.nan\n",
    "\n",
    "display(holiday_spending)"
   ]
  },
  {
   "cell_type": "markdown",
   "id": "14ca4586",
   "metadata": {
    "id": "14ca4586"
   },
   "source": [
    "**Missing At Random (MAR)**  <br>\n",
    "When data is not missing randomly, but only within sub-samples of data.  <br>\n",
    "Example:  <br>\n",
    "*You notice that there are more missing values for adults aged 18–25 than for other age groups. But looking at the observed data for adults aged 18–25, you notice that the values are widely spread. It’s unlikely that the missing data are missing because of the specific values themselves.*"
   ]
  },
  {
   "cell_type": "code",
   "execution_count": 2,
   "id": "be416e96",
   "metadata": {
    "id": "be416e96",
    "outputId": "975b2cae-7f43-4a1b-a171-c08af38d2533"
   },
   "outputs": [
    {
     "data": {
      "text/html": [
       "<div>\n",
       "<style scoped>\n",
       "    .dataframe tbody tr th:only-of-type {\n",
       "        vertical-align: middle;\n",
       "    }\n",
       "\n",
       "    .dataframe tbody tr th {\n",
       "        vertical-align: top;\n",
       "    }\n",
       "\n",
       "    .dataframe thead th {\n",
       "        text-align: right;\n",
       "    }\n",
       "</style>\n",
       "<table border=\"1\" class=\"dataframe\">\n",
       "  <thead>\n",
       "    <tr style=\"text-align: right;\">\n",
       "      <th></th>\n",
       "      <th>ID</th>\n",
       "      <th>Age</th>\n",
       "      <th>Spending</th>\n",
       "    </tr>\n",
       "  </thead>\n",
       "  <tbody>\n",
       "    <tr>\n",
       "      <th>0</th>\n",
       "      <td>1</td>\n",
       "      <td>60</td>\n",
       "      <td>80.988446</td>\n",
       "    </tr>\n",
       "    <tr>\n",
       "      <th>1</th>\n",
       "      <td>2</td>\n",
       "      <td>39</td>\n",
       "      <td>17.135319</td>\n",
       "    </tr>\n",
       "    <tr>\n",
       "      <th>2</th>\n",
       "      <td>3</td>\n",
       "      <td>39</td>\n",
       "      <td>42.275711</td>\n",
       "    </tr>\n",
       "    <tr>\n",
       "      <th>3</th>\n",
       "      <td>4</td>\n",
       "      <td>44</td>\n",
       "      <td>12.075491</td>\n",
       "    </tr>\n",
       "    <tr>\n",
       "      <th>4</th>\n",
       "      <td>5</td>\n",
       "      <td>29</td>\n",
       "      <td>67.291373</td>\n",
       "    </tr>\n",
       "    <tr>\n",
       "      <th>5</th>\n",
       "      <td>6</td>\n",
       "      <td>42</td>\n",
       "      <td>13.265922</td>\n",
       "    </tr>\n",
       "    <tr>\n",
       "      <th>6</th>\n",
       "      <td>7</td>\n",
       "      <td>21</td>\n",
       "      <td>NaN</td>\n",
       "    </tr>\n",
       "    <tr>\n",
       "      <th>7</th>\n",
       "      <td>8</td>\n",
       "      <td>58</td>\n",
       "      <td>81.059668</td>\n",
       "    </tr>\n",
       "    <tr>\n",
       "      <th>8</th>\n",
       "      <td>9</td>\n",
       "      <td>41</td>\n",
       "      <td>41.568091</td>\n",
       "    </tr>\n",
       "    <tr>\n",
       "      <th>9</th>\n",
       "      <td>10</td>\n",
       "      <td>25</td>\n",
       "      <td>NaN</td>\n",
       "    </tr>\n",
       "  </tbody>\n",
       "</table>\n",
       "</div>"
      ],
      "text/plain": [
       "   ID  Age   Spending\n",
       "0   1   60  80.988446\n",
       "1   2   39  17.135319\n",
       "2   3   39  42.275711\n",
       "3   4   44  12.075491\n",
       "4   5   29  67.291373\n",
       "5   6   42  13.265922\n",
       "6   7   21        NaN\n",
       "7   8   58  81.059668\n",
       "8   9   41  41.568091\n",
       "9  10   25        NaN"
      ]
     },
     "metadata": {},
     "output_type": "display_data"
    }
   ],
   "source": [
    "import pandas as pd\n",
    "import numpy as np\n",
    "\n",
    "# Generate a dataset with holiday spending data\n",
    "holiday_spending = pd.DataFrame({\n",
    "    'ID': range(1, 11),  # Participant ID\n",
    "    'Age': np.random.randint(18, 65, 10),  # Participant age\n",
    "    'Spending': np.random.uniform(10, 100, 10)  # Holiday spending amount\n",
    "})\n",
    "\n",
    "# Introduce MAR missing values for adults aged 18-25\n",
    "missing_indices = np.random.choice(holiday_spending[holiday_spending['Age'].between(18, 25)].index, size=2, replace=False)\n",
    "holiday_spending.loc[missing_indices, 'Spending'] = np.nan\n",
    "\n",
    "display(holiday_spending)"
   ]
  },
  {
   "cell_type": "markdown",
   "id": "622e02d4",
   "metadata": {
    "id": "622e02d4"
   },
   "source": [
    "**Not Missing at Random (NMAR):**  <br>\n",
    "When there is a noticeable trend in the way data is missing..  <br>\n",
    "Example:  <br>\n",
    "*Participants with low incomes avoid reporting their holiday spending amounts because they are low.*"
   ]
  },
  {
   "cell_type": "code",
   "execution_count": 3,
   "id": "99e65e90",
   "metadata": {
    "id": "99e65e90",
    "outputId": "9d172d7e-1ae4-4bd9-ce24-15823e1cad0c"
   },
   "outputs": [
    {
     "data": {
      "text/html": [
       "<div>\n",
       "<style scoped>\n",
       "    .dataframe tbody tr th:only-of-type {\n",
       "        vertical-align: middle;\n",
       "    }\n",
       "\n",
       "    .dataframe tbody tr th {\n",
       "        vertical-align: top;\n",
       "    }\n",
       "\n",
       "    .dataframe thead th {\n",
       "        text-align: right;\n",
       "    }\n",
       "</style>\n",
       "<table border=\"1\" class=\"dataframe\">\n",
       "  <thead>\n",
       "    <tr style=\"text-align: right;\">\n",
       "      <th></th>\n",
       "      <th>ID</th>\n",
       "      <th>Income</th>\n",
       "      <th>Spending</th>\n",
       "    </tr>\n",
       "  </thead>\n",
       "  <tbody>\n",
       "    <tr>\n",
       "      <th>0</th>\n",
       "      <td>1</td>\n",
       "      <td>2349.818988</td>\n",
       "      <td>NaN</td>\n",
       "    </tr>\n",
       "    <tr>\n",
       "      <th>1</th>\n",
       "      <td>2</td>\n",
       "      <td>2644.328077</td>\n",
       "      <td>NaN</td>\n",
       "    </tr>\n",
       "    <tr>\n",
       "      <th>2</th>\n",
       "      <td>3</td>\n",
       "      <td>4176.122904</td>\n",
       "      <td>823.665192</td>\n",
       "    </tr>\n",
       "    <tr>\n",
       "      <th>3</th>\n",
       "      <td>4</td>\n",
       "      <td>4501.272365</td>\n",
       "      <td>133.846717</td>\n",
       "    </tr>\n",
       "    <tr>\n",
       "      <th>4</th>\n",
       "      <td>5</td>\n",
       "      <td>3576.006314</td>\n",
       "      <td>397.120053</td>\n",
       "    </tr>\n",
       "    <tr>\n",
       "      <th>5</th>\n",
       "      <td>6</td>\n",
       "      <td>4466.394112</td>\n",
       "      <td>826.177114</td>\n",
       "    </tr>\n",
       "    <tr>\n",
       "      <th>6</th>\n",
       "      <td>7</td>\n",
       "      <td>4106.077893</td>\n",
       "      <td>641.375086</td>\n",
       "    </tr>\n",
       "    <tr>\n",
       "      <th>7</th>\n",
       "      <td>8</td>\n",
       "      <td>4360.499455</td>\n",
       "      <td>572.034124</td>\n",
       "    </tr>\n",
       "    <tr>\n",
       "      <th>8</th>\n",
       "      <td>9</td>\n",
       "      <td>2863.205776</td>\n",
       "      <td>NaN</td>\n",
       "    </tr>\n",
       "    <tr>\n",
       "      <th>9</th>\n",
       "      <td>10</td>\n",
       "      <td>3365.166992</td>\n",
       "      <td>416.253442</td>\n",
       "    </tr>\n",
       "  </tbody>\n",
       "</table>\n",
       "</div>"
      ],
      "text/plain": [
       "   ID       Income    Spending\n",
       "0   1  2349.818988         NaN\n",
       "1   2  2644.328077         NaN\n",
       "2   3  4176.122904  823.665192\n",
       "3   4  4501.272365  133.846717\n",
       "4   5  3576.006314  397.120053\n",
       "5   6  4466.394112  826.177114\n",
       "6   7  4106.077893  641.375086\n",
       "7   8  4360.499455  572.034124\n",
       "8   9  2863.205776         NaN\n",
       "9  10  3365.166992  416.253442"
      ]
     },
     "metadata": {},
     "output_type": "display_data"
    }
   ],
   "source": [
    "import pandas as pd\n",
    "import numpy as np\n",
    "\n",
    "# Generate a dataset with holiday spending data\n",
    "holiday_spending = pd.DataFrame({\n",
    "    'ID': range(1, 11),  # Participant ID\n",
    "    'Income': np.random.uniform(1000, 5000, 10),  # Participant income\n",
    "    'Spending': np.random.uniform(100, 1000, 10)  # Holiday spending amount\n",
    "})\n",
    "\n",
    "# Introduce NMAR missing values for participants with low incomes\n",
    "missing_indices = np.random.choice(holiday_spending[holiday_spending['Income'] < 3000].index, size=3, replace=False)\n",
    "holiday_spending.loc[missing_indices, 'Spending'] = np.nan\n",
    "\n",
    "display(holiday_spending)"
   ]
  },
  {
   "cell_type": "markdown",
   "id": "83b5fd07",
   "metadata": {
    "id": "83b5fd07"
   },
   "source": [
    "## 1.2 Missing values treatment"
   ]
  },
  {
   "cell_type": "markdown",
   "id": "e22d0916",
   "metadata": {
    "id": "e22d0916"
   },
   "source": [
    "When dealing with missing values, it is important to have effective strategies in place.Now we will show techniques such as imputation and exclusion to handle missing data, enabling you to make informed decisions and maintain the integrity of your analyses."
   ]
  },
  {
   "cell_type": "markdown",
   "id": "c259ce98",
   "metadata": {
    "id": "c259ce98"
   },
   "source": [
    "![1_missing_full_esquema.PNG](attachment:1_missing_full_esquema.PNG)"
   ]
  },
  {
   "cell_type": "markdown",
   "id": "85b296f7",
   "metadata": {
    "id": "85b296f7"
   },
   "source": [
    "### 1.2.1 Deletions"
   ]
  },
  {
   "cell_type": "markdown",
   "id": "850535a9",
   "metadata": {
    "id": "850535a9"
   },
   "source": [
    "Deletions in missing values treatment refer to the process of removing or excluding rows or columns from a dataset that contain missing values. <br>\n",
    "Types of deletions:"
   ]
  },
  {
   "cell_type": "markdown",
   "id": "91f8927d",
   "metadata": {
    "id": "91f8927d"
   },
   "source": [
    "**Pairwise deletions** <br>\n",
    "Used when values are missing completely at random i.e MCAR. During Pairwise deletion, only the missing values are deleted. All operations in pandas like mean, sum, etc intrinsically skip missing values."
   ]
  },
  {
   "cell_type": "code",
   "execution_count": 4,
   "id": "722c2a1d",
   "metadata": {
    "id": "722c2a1d",
    "outputId": "58e34db0-8e60-46f5-a714-25dc9887b201"
   },
   "outputs": [
    {
     "name": "stdout",
     "output_type": "stream",
     "text": [
      "Original DataFrame:\n"
     ]
    },
    {
     "data": {
      "text/html": [
       "<div>\n",
       "<style scoped>\n",
       "    .dataframe tbody tr th:only-of-type {\n",
       "        vertical-align: middle;\n",
       "    }\n",
       "\n",
       "    .dataframe tbody tr th {\n",
       "        vertical-align: top;\n",
       "    }\n",
       "\n",
       "    .dataframe thead th {\n",
       "        text-align: right;\n",
       "    }\n",
       "</style>\n",
       "<table border=\"1\" class=\"dataframe\">\n",
       "  <thead>\n",
       "    <tr style=\"text-align: right;\">\n",
       "      <th></th>\n",
       "      <th>A</th>\n",
       "      <th>B</th>\n",
       "      <th>C</th>\n",
       "    </tr>\n",
       "  </thead>\n",
       "  <tbody>\n",
       "    <tr>\n",
       "      <th>0</th>\n",
       "      <td>1.0</td>\n",
       "      <td>NaN</td>\n",
       "      <td>1.0</td>\n",
       "    </tr>\n",
       "    <tr>\n",
       "      <th>1</th>\n",
       "      <td>2.0</td>\n",
       "      <td>2.0</td>\n",
       "      <td>2.0</td>\n",
       "    </tr>\n",
       "    <tr>\n",
       "      <th>2</th>\n",
       "      <td>NaN</td>\n",
       "      <td>3.0</td>\n",
       "      <td>3.0</td>\n",
       "    </tr>\n",
       "    <tr>\n",
       "      <th>3</th>\n",
       "      <td>4.0</td>\n",
       "      <td>4.0</td>\n",
       "      <td>NaN</td>\n",
       "    </tr>\n",
       "    <tr>\n",
       "      <th>4</th>\n",
       "      <td>5.0</td>\n",
       "      <td>5.0</td>\n",
       "      <td>5.0</td>\n",
       "    </tr>\n",
       "  </tbody>\n",
       "</table>\n",
       "</div>"
      ],
      "text/plain": [
       "     A    B    C\n",
       "0  1.0  NaN  1.0\n",
       "1  2.0  2.0  2.0\n",
       "2  NaN  3.0  3.0\n",
       "3  4.0  4.0  NaN\n",
       "4  5.0  5.0  5.0"
      ]
     },
     "metadata": {},
     "output_type": "display_data"
    },
    {
     "name": "stdout",
     "output_type": "stream",
     "text": [
      "\n",
      "Pairwise Deleted DataFrame:\n"
     ]
    },
    {
     "data": {
      "text/html": [
       "<div>\n",
       "<style scoped>\n",
       "    .dataframe tbody tr th:only-of-type {\n",
       "        vertical-align: middle;\n",
       "    }\n",
       "\n",
       "    .dataframe tbody tr th {\n",
       "        vertical-align: top;\n",
       "    }\n",
       "\n",
       "    .dataframe thead th {\n",
       "        text-align: right;\n",
       "    }\n",
       "</style>\n",
       "<table border=\"1\" class=\"dataframe\">\n",
       "  <thead>\n",
       "    <tr style=\"text-align: right;\">\n",
       "      <th></th>\n",
       "      <th>A</th>\n",
       "      <th>B</th>\n",
       "      <th>C</th>\n",
       "    </tr>\n",
       "  </thead>\n",
       "  <tbody>\n",
       "    <tr>\n",
       "      <th>1</th>\n",
       "      <td>2.0</td>\n",
       "      <td>2.0</td>\n",
       "      <td>2.0</td>\n",
       "    </tr>\n",
       "    <tr>\n",
       "      <th>4</th>\n",
       "      <td>5.0</td>\n",
       "      <td>5.0</td>\n",
       "      <td>5.0</td>\n",
       "    </tr>\n",
       "  </tbody>\n",
       "</table>\n",
       "</div>"
      ],
      "text/plain": [
       "     A    B    C\n",
       "1  2.0  2.0  2.0\n",
       "4  5.0  5.0  5.0"
      ]
     },
     "metadata": {},
     "output_type": "display_data"
    }
   ],
   "source": [
    "import pandas as pd\n",
    "\n",
    "# Creating a sample dataframe with missing values\n",
    "data = {'A': [1, 2, None, 4, 5],\n",
    "        'B': [None, 2, 3, 4, 5],\n",
    "        'C': [1, 2, 3, None, 5]}\n",
    "df = pd.DataFrame(data)\n",
    "\n",
    "# Applying pairwise deletion\n",
    "df_pairwise_deleted = df.dropna()\n",
    "\n",
    "# Displaying the original and pairwise deleted dataframes\n",
    "print(\"Original DataFrame:\")\n",
    "display(df)\n",
    "print(\"\\nPairwise Deleted DataFrame:\")\n",
    "display(df_pairwise_deleted)"
   ]
  },
  {
   "cell_type": "markdown",
   "id": "1ca51eb6",
   "metadata": {
    "id": "1ca51eb6"
   },
   "source": [
    "**Listwise Deletion/ Dropping rows:** <br>\n",
    "During Listwise deletion, complete rows(which contain the missing values) are deleted. As a result, it is also called Complete Case deletion. Like Pairwise deletion, listwise deletions are also only used for MCAR values."
   ]
  },
  {
   "cell_type": "code",
   "execution_count": 5,
   "id": "f941c4c3",
   "metadata": {
    "id": "f941c4c3",
    "outputId": "ef89ddf8-a542-44b9-9a7e-9acca106b85b"
   },
   "outputs": [
    {
     "name": "stdout",
     "output_type": "stream",
     "text": [
      "Original DataFrame:\n"
     ]
    },
    {
     "data": {
      "text/html": [
       "<div>\n",
       "<style scoped>\n",
       "    .dataframe tbody tr th:only-of-type {\n",
       "        vertical-align: middle;\n",
       "    }\n",
       "\n",
       "    .dataframe tbody tr th {\n",
       "        vertical-align: top;\n",
       "    }\n",
       "\n",
       "    .dataframe thead th {\n",
       "        text-align: right;\n",
       "    }\n",
       "</style>\n",
       "<table border=\"1\" class=\"dataframe\">\n",
       "  <thead>\n",
       "    <tr style=\"text-align: right;\">\n",
       "      <th></th>\n",
       "      <th>A</th>\n",
       "      <th>B</th>\n",
       "      <th>C</th>\n",
       "    </tr>\n",
       "  </thead>\n",
       "  <tbody>\n",
       "    <tr>\n",
       "      <th>0</th>\n",
       "      <td>1.0</td>\n",
       "      <td>NaN</td>\n",
       "      <td>1.0</td>\n",
       "    </tr>\n",
       "    <tr>\n",
       "      <th>1</th>\n",
       "      <td>2.0</td>\n",
       "      <td>2.0</td>\n",
       "      <td>2.0</td>\n",
       "    </tr>\n",
       "    <tr>\n",
       "      <th>2</th>\n",
       "      <td>NaN</td>\n",
       "      <td>3.0</td>\n",
       "      <td>3.0</td>\n",
       "    </tr>\n",
       "    <tr>\n",
       "      <th>3</th>\n",
       "      <td>4.0</td>\n",
       "      <td>4.0</td>\n",
       "      <td>NaN</td>\n",
       "    </tr>\n",
       "    <tr>\n",
       "      <th>4</th>\n",
       "      <td>5.0</td>\n",
       "      <td>5.0</td>\n",
       "      <td>5.0</td>\n",
       "    </tr>\n",
       "  </tbody>\n",
       "</table>\n",
       "</div>"
      ],
      "text/plain": [
       "     A    B    C\n",
       "0  1.0  NaN  1.0\n",
       "1  2.0  2.0  2.0\n",
       "2  NaN  3.0  3.0\n",
       "3  4.0  4.0  NaN\n",
       "4  5.0  5.0  5.0"
      ]
     },
     "metadata": {},
     "output_type": "display_data"
    },
    {
     "name": "stdout",
     "output_type": "stream",
     "text": [
      "\n",
      "Listwise Deleted DataFrame:\n"
     ]
    },
    {
     "data": {
      "text/html": [
       "<div>\n",
       "<style scoped>\n",
       "    .dataframe tbody tr th:only-of-type {\n",
       "        vertical-align: middle;\n",
       "    }\n",
       "\n",
       "    .dataframe tbody tr th {\n",
       "        vertical-align: top;\n",
       "    }\n",
       "\n",
       "    .dataframe thead th {\n",
       "        text-align: right;\n",
       "    }\n",
       "</style>\n",
       "<table border=\"1\" class=\"dataframe\">\n",
       "  <thead>\n",
       "    <tr style=\"text-align: right;\">\n",
       "      <th></th>\n",
       "      <th>A</th>\n",
       "      <th>B</th>\n",
       "      <th>C</th>\n",
       "    </tr>\n",
       "  </thead>\n",
       "  <tbody>\n",
       "    <tr>\n",
       "      <th>1</th>\n",
       "      <td>2.0</td>\n",
       "      <td>2.0</td>\n",
       "      <td>2.0</td>\n",
       "    </tr>\n",
       "    <tr>\n",
       "      <th>4</th>\n",
       "      <td>5.0</td>\n",
       "      <td>5.0</td>\n",
       "      <td>5.0</td>\n",
       "    </tr>\n",
       "  </tbody>\n",
       "</table>\n",
       "</div>"
      ],
      "text/plain": [
       "     A    B    C\n",
       "1  2.0  2.0  2.0\n",
       "4  5.0  5.0  5.0"
      ]
     },
     "metadata": {},
     "output_type": "display_data"
    }
   ],
   "source": [
    "import pandas as pd\n",
    "\n",
    "# Creating a sample dataframe with missing values\n",
    "data = {'A': [1, 2, None, 4, 5],\n",
    "        'B': [None, 2, 3, 4, 5],\n",
    "        'C': [1, 2, 3, None, 5]}\n",
    "df = pd.DataFrame(data)\n",
    "\n",
    "# Applying listwise deletion\n",
    "df_listwise_deleted = df.dropna(axis=0)\n",
    "\n",
    "# Displaying the original and listwise deleted dataframes\n",
    "print(\"Original DataFrame:\")\n",
    "display(df)\n",
    "print(\"\\nListwise Deleted DataFrame:\")\n",
    "display(df_listwise_deleted)\n"
   ]
  },
  {
   "cell_type": "markdown",
   "id": "544e1890",
   "metadata": {
    "id": "544e1890"
   },
   "source": [
    "**Dropping complete columns:**  <br>\n",
    "If a column contains a lot of missing values, say more than 80%, and the feature is not significant, you might want to delete that feature. However, again, it is not a good methodology to delete data."
   ]
  },
  {
   "cell_type": "code",
   "execution_count": 6,
   "id": "6a9497a5",
   "metadata": {
    "id": "6a9497a5",
    "outputId": "fe46da81-e2cf-43a4-9a91-e623e6845387"
   },
   "outputs": [
    {
     "name": "stdout",
     "output_type": "stream",
     "text": [
      "Original DataFrame:\n"
     ]
    },
    {
     "data": {
      "text/html": [
       "<div>\n",
       "<style scoped>\n",
       "    .dataframe tbody tr th:only-of-type {\n",
       "        vertical-align: middle;\n",
       "    }\n",
       "\n",
       "    .dataframe tbody tr th {\n",
       "        vertical-align: top;\n",
       "    }\n",
       "\n",
       "    .dataframe thead th {\n",
       "        text-align: right;\n",
       "    }\n",
       "</style>\n",
       "<table border=\"1\" class=\"dataframe\">\n",
       "  <thead>\n",
       "    <tr style=\"text-align: right;\">\n",
       "      <th></th>\n",
       "      <th>A</th>\n",
       "      <th>B</th>\n",
       "      <th>C</th>\n",
       "      <th>D</th>\n",
       "    </tr>\n",
       "  </thead>\n",
       "  <tbody>\n",
       "    <tr>\n",
       "      <th>0</th>\n",
       "      <td>1.0</td>\n",
       "      <td>5.0</td>\n",
       "      <td>NaN</td>\n",
       "      <td>10</td>\n",
       "    </tr>\n",
       "    <tr>\n",
       "      <th>1</th>\n",
       "      <td>2.0</td>\n",
       "      <td>NaN</td>\n",
       "      <td>1.0</td>\n",
       "      <td>11</td>\n",
       "    </tr>\n",
       "    <tr>\n",
       "      <th>2</th>\n",
       "      <td>3.0</td>\n",
       "      <td>7.0</td>\n",
       "      <td>NaN</td>\n",
       "      <td>12</td>\n",
       "    </tr>\n",
       "    <tr>\n",
       "      <th>3</th>\n",
       "      <td>4.0</td>\n",
       "      <td>8.0</td>\n",
       "      <td>NaN</td>\n",
       "      <td>13</td>\n",
       "    </tr>\n",
       "    <tr>\n",
       "      <th>4</th>\n",
       "      <td>NaN</td>\n",
       "      <td>9.0</td>\n",
       "      <td>NaN</td>\n",
       "      <td>14</td>\n",
       "    </tr>\n",
       "  </tbody>\n",
       "</table>\n",
       "</div>"
      ],
      "text/plain": [
       "     A    B    C   D\n",
       "0  1.0  5.0  NaN  10\n",
       "1  2.0  NaN  1.0  11\n",
       "2  3.0  7.0  NaN  12\n",
       "3  4.0  8.0  NaN  13\n",
       "4  NaN  9.0  NaN  14"
      ]
     },
     "metadata": {},
     "output_type": "display_data"
    },
    {
     "name": "stdout",
     "output_type": "stream",
     "text": [
      "\n",
      "DataFrame after dropping columns:\n"
     ]
    },
    {
     "data": {
      "text/html": [
       "<div>\n",
       "<style scoped>\n",
       "    .dataframe tbody tr th:only-of-type {\n",
       "        vertical-align: middle;\n",
       "    }\n",
       "\n",
       "    .dataframe tbody tr th {\n",
       "        vertical-align: top;\n",
       "    }\n",
       "\n",
       "    .dataframe thead th {\n",
       "        text-align: right;\n",
       "    }\n",
       "</style>\n",
       "<table border=\"1\" class=\"dataframe\">\n",
       "  <thead>\n",
       "    <tr style=\"text-align: right;\">\n",
       "      <th></th>\n",
       "      <th>A</th>\n",
       "      <th>B</th>\n",
       "      <th>D</th>\n",
       "    </tr>\n",
       "  </thead>\n",
       "  <tbody>\n",
       "    <tr>\n",
       "      <th>0</th>\n",
       "      <td>1.0</td>\n",
       "      <td>5.0</td>\n",
       "      <td>10</td>\n",
       "    </tr>\n",
       "    <tr>\n",
       "      <th>1</th>\n",
       "      <td>2.0</td>\n",
       "      <td>NaN</td>\n",
       "      <td>11</td>\n",
       "    </tr>\n",
       "    <tr>\n",
       "      <th>2</th>\n",
       "      <td>3.0</td>\n",
       "      <td>7.0</td>\n",
       "      <td>12</td>\n",
       "    </tr>\n",
       "    <tr>\n",
       "      <th>3</th>\n",
       "      <td>4.0</td>\n",
       "      <td>8.0</td>\n",
       "      <td>13</td>\n",
       "    </tr>\n",
       "    <tr>\n",
       "      <th>4</th>\n",
       "      <td>NaN</td>\n",
       "      <td>9.0</td>\n",
       "      <td>14</td>\n",
       "    </tr>\n",
       "  </tbody>\n",
       "</table>\n",
       "</div>"
      ],
      "text/plain": [
       "     A    B   D\n",
       "0  1.0  5.0  10\n",
       "1  2.0  NaN  11\n",
       "2  3.0  7.0  12\n",
       "3  4.0  8.0  13\n",
       "4  NaN  9.0  14"
      ]
     },
     "metadata": {},
     "output_type": "display_data"
    }
   ],
   "source": [
    "import pandas as pd\n",
    "\n",
    "# Create a sample DataFrame\n",
    "data = {\n",
    "    'A': [1, 2, 3, 4, None],\n",
    "    'B': [5, None, 7, 8, 9],\n",
    "    'C': [None, 1, None, None, None],\n",
    "    'D': [10, 11, 12, 13, 14]\n",
    "}\n",
    "\n",
    "df = pd.DataFrame(data)\n",
    "\n",
    "# Calculate the percentage of missing values in each column\n",
    "missing_percentages = df.isnull().sum() / len(df) * 100\n",
    "\n",
    "# Define the threshold for dropping columns (80% or more missing values)\n",
    "threshold = 80\n",
    "\n",
    "# Get the column names that exceed the threshold\n",
    "columns_to_drop = missing_percentages[missing_percentages >= threshold].index\n",
    "\n",
    "# Drop the columns from the DataFrame\n",
    "df_dropped = df.drop(columns_to_drop, axis=1)\n",
    "\n",
    "# Print the original DataFrame\n",
    "print(\"Original DataFrame:\")\n",
    "display(df)\n",
    "\n",
    "# Print the DataFrame after dropping columns\n",
    "print(\"\\nDataFrame after dropping columns:\")\n",
    "display(df_dropped)"
   ]
  },
  {
   "cell_type": "markdown",
   "id": "037bcf9b",
   "metadata": {
    "id": "037bcf9b"
   },
   "source": [
    "### 1.2.2 Imputations"
   ]
  },
  {
   "cell_type": "markdown",
   "id": "94da979a",
   "metadata": {
    "id": "94da979a"
   },
   "source": [
    "Imputation refers to replacing missing data with substituted values. There are a lot ofways in which the missing values can be imputed depending upon the nature of the problem and data."
   ]
  },
  {
   "cell_type": "markdown",
   "id": "477881ee",
   "metadata": {
    "id": "477881ee"
   },
   "source": [
    "![2_missing_imputation.PNG](attachment:2_missing_imputation.PNG)"
   ]
  },
  {
   "cell_type": "markdown",
   "id": "08c9bcec",
   "metadata": {
    "id": "08c9bcec"
   },
   "source": [
    "**Imputing a constant**: <br>\n",
    "Imputes a constant value to all NaN"
   ]
  },
  {
   "cell_type": "code",
   "execution_count": 7,
   "id": "2dcaf79f",
   "metadata": {
    "id": "2dcaf79f",
    "outputId": "3c837adc-5429-498b-cc03-fc64e8e3d4cc"
   },
   "outputs": [
    {
     "name": "stdout",
     "output_type": "stream",
     "text": [
      "Original DataFrame:\n"
     ]
    },
    {
     "data": {
      "text/html": [
       "<div>\n",
       "<style scoped>\n",
       "    .dataframe tbody tr th:only-of-type {\n",
       "        vertical-align: middle;\n",
       "    }\n",
       "\n",
       "    .dataframe tbody tr th {\n",
       "        vertical-align: top;\n",
       "    }\n",
       "\n",
       "    .dataframe thead th {\n",
       "        text-align: right;\n",
       "    }\n",
       "</style>\n",
       "<table border=\"1\" class=\"dataframe\">\n",
       "  <thead>\n",
       "    <tr style=\"text-align: right;\">\n",
       "      <th></th>\n",
       "      <th>A</th>\n",
       "      <th>B</th>\n",
       "      <th>C</th>\n",
       "    </tr>\n",
       "  </thead>\n",
       "  <tbody>\n",
       "    <tr>\n",
       "      <th>0</th>\n",
       "      <td>1.0</td>\n",
       "      <td>6.0</td>\n",
       "      <td>11.0</td>\n",
       "    </tr>\n",
       "    <tr>\n",
       "      <th>1</th>\n",
       "      <td>2.0</td>\n",
       "      <td>NaN</td>\n",
       "      <td>12.0</td>\n",
       "    </tr>\n",
       "    <tr>\n",
       "      <th>2</th>\n",
       "      <td>NaN</td>\n",
       "      <td>8.0</td>\n",
       "      <td>13.0</td>\n",
       "    </tr>\n",
       "    <tr>\n",
       "      <th>3</th>\n",
       "      <td>4.0</td>\n",
       "      <td>9.0</td>\n",
       "      <td>NaN</td>\n",
       "    </tr>\n",
       "    <tr>\n",
       "      <th>4</th>\n",
       "      <td>5.0</td>\n",
       "      <td>10.0</td>\n",
       "      <td>15.0</td>\n",
       "    </tr>\n",
       "  </tbody>\n",
       "</table>\n",
       "</div>"
      ],
      "text/plain": [
       "     A     B     C\n",
       "0  1.0   6.0  11.0\n",
       "1  2.0   NaN  12.0\n",
       "2  NaN   8.0  13.0\n",
       "3  4.0   9.0   NaN\n",
       "4  5.0  10.0  15.0"
      ]
     },
     "metadata": {},
     "output_type": "display_data"
    },
    {
     "name": "stdout",
     "output_type": "stream",
     "text": [
      "\n",
      "DataFrame after imputation:\n"
     ]
    },
    {
     "data": {
      "text/html": [
       "<div>\n",
       "<style scoped>\n",
       "    .dataframe tbody tr th:only-of-type {\n",
       "        vertical-align: middle;\n",
       "    }\n",
       "\n",
       "    .dataframe tbody tr th {\n",
       "        vertical-align: top;\n",
       "    }\n",
       "\n",
       "    .dataframe thead th {\n",
       "        text-align: right;\n",
       "    }\n",
       "</style>\n",
       "<table border=\"1\" class=\"dataframe\">\n",
       "  <thead>\n",
       "    <tr style=\"text-align: right;\">\n",
       "      <th></th>\n",
       "      <th>A</th>\n",
       "      <th>B</th>\n",
       "      <th>C</th>\n",
       "    </tr>\n",
       "  </thead>\n",
       "  <tbody>\n",
       "    <tr>\n",
       "      <th>0</th>\n",
       "      <td>1.0</td>\n",
       "      <td>6.0</td>\n",
       "      <td>11.0</td>\n",
       "    </tr>\n",
       "    <tr>\n",
       "      <th>1</th>\n",
       "      <td>2.0</td>\n",
       "      <td>2.0</td>\n",
       "      <td>12.0</td>\n",
       "    </tr>\n",
       "    <tr>\n",
       "      <th>2</th>\n",
       "      <td>2.0</td>\n",
       "      <td>8.0</td>\n",
       "      <td>13.0</td>\n",
       "    </tr>\n",
       "    <tr>\n",
       "      <th>3</th>\n",
       "      <td>4.0</td>\n",
       "      <td>9.0</td>\n",
       "      <td>2.0</td>\n",
       "    </tr>\n",
       "    <tr>\n",
       "      <th>4</th>\n",
       "      <td>5.0</td>\n",
       "      <td>10.0</td>\n",
       "      <td>15.0</td>\n",
       "    </tr>\n",
       "  </tbody>\n",
       "</table>\n",
       "</div>"
      ],
      "text/plain": [
       "     A     B     C\n",
       "0  1.0   6.0  11.0\n",
       "1  2.0   2.0  12.0\n",
       "2  2.0   8.0  13.0\n",
       "3  4.0   9.0   2.0\n",
       "4  5.0  10.0  15.0"
      ]
     },
     "metadata": {},
     "output_type": "display_data"
    }
   ],
   "source": [
    "import pandas as pd\n",
    "import numpy as np\n",
    "\n",
    "# Create a sample DataFrame\n",
    "data = {\n",
    "    'A': [1, 2, np.nan, 4, 5],\n",
    "    'B': [6, np.nan, 8, 9, 10],\n",
    "    'C': [11, 12, 13, np.nan, 15]\n",
    "}\n",
    "\n",
    "df = pd.DataFrame(data)\n",
    "CONSTANT = 2\n",
    "\n",
    "# Impute missing values with a constant (e.g., 0)\n",
    "imputed_df = df.fillna(CONSTANT)\n",
    "\n",
    "# Print the original DataFrame\n",
    "print(\"Original DataFrame:\")\n",
    "display(df)\n",
    "\n",
    "# Print the DataFrame after imputation\n",
    "print(\"\\nDataFrame after imputation:\")\n",
    "display(imputed_df)"
   ]
  },
  {
   "cell_type": "markdown",
   "id": "789915fe",
   "metadata": {
    "id": "789915fe"
   },
   "source": [
    "**Imputing the mean**: <br>\n",
    "Imputes the mean value of the column with NaN"
   ]
  },
  {
   "cell_type": "code",
   "execution_count": 8,
   "id": "8c48af83",
   "metadata": {
    "id": "8c48af83",
    "outputId": "3d51267e-7ac7-4eb3-ef79-61c69e538464"
   },
   "outputs": [
    {
     "name": "stdout",
     "output_type": "stream",
     "text": [
      "Original DataFrame:\n"
     ]
    },
    {
     "data": {
      "text/html": [
       "<div>\n",
       "<style scoped>\n",
       "    .dataframe tbody tr th:only-of-type {\n",
       "        vertical-align: middle;\n",
       "    }\n",
       "\n",
       "    .dataframe tbody tr th {\n",
       "        vertical-align: top;\n",
       "    }\n",
       "\n",
       "    .dataframe thead th {\n",
       "        text-align: right;\n",
       "    }\n",
       "</style>\n",
       "<table border=\"1\" class=\"dataframe\">\n",
       "  <thead>\n",
       "    <tr style=\"text-align: right;\">\n",
       "      <th></th>\n",
       "      <th>A</th>\n",
       "      <th>B</th>\n",
       "      <th>C</th>\n",
       "    </tr>\n",
       "  </thead>\n",
       "  <tbody>\n",
       "    <tr>\n",
       "      <th>0</th>\n",
       "      <td>1.0</td>\n",
       "      <td>6.0</td>\n",
       "      <td>11.0</td>\n",
       "    </tr>\n",
       "    <tr>\n",
       "      <th>1</th>\n",
       "      <td>2.0</td>\n",
       "      <td>NaN</td>\n",
       "      <td>12.0</td>\n",
       "    </tr>\n",
       "    <tr>\n",
       "      <th>2</th>\n",
       "      <td>NaN</td>\n",
       "      <td>8.0</td>\n",
       "      <td>13.0</td>\n",
       "    </tr>\n",
       "    <tr>\n",
       "      <th>3</th>\n",
       "      <td>4.0</td>\n",
       "      <td>9.0</td>\n",
       "      <td>NaN</td>\n",
       "    </tr>\n",
       "    <tr>\n",
       "      <th>4</th>\n",
       "      <td>5.0</td>\n",
       "      <td>10.0</td>\n",
       "      <td>15.0</td>\n",
       "    </tr>\n",
       "  </tbody>\n",
       "</table>\n",
       "</div>"
      ],
      "text/plain": [
       "     A     B     C\n",
       "0  1.0   6.0  11.0\n",
       "1  2.0   NaN  12.0\n",
       "2  NaN   8.0  13.0\n",
       "3  4.0   9.0   NaN\n",
       "4  5.0  10.0  15.0"
      ]
     },
     "metadata": {},
     "output_type": "display_data"
    },
    {
     "name": "stdout",
     "output_type": "stream",
     "text": [
      "\n",
      "DataFrame after imputation:\n"
     ]
    },
    {
     "data": {
      "text/html": [
       "<div>\n",
       "<style scoped>\n",
       "    .dataframe tbody tr th:only-of-type {\n",
       "        vertical-align: middle;\n",
       "    }\n",
       "\n",
       "    .dataframe tbody tr th {\n",
       "        vertical-align: top;\n",
       "    }\n",
       "\n",
       "    .dataframe thead th {\n",
       "        text-align: right;\n",
       "    }\n",
       "</style>\n",
       "<table border=\"1\" class=\"dataframe\">\n",
       "  <thead>\n",
       "    <tr style=\"text-align: right;\">\n",
       "      <th></th>\n",
       "      <th>A</th>\n",
       "      <th>B</th>\n",
       "      <th>C</th>\n",
       "    </tr>\n",
       "  </thead>\n",
       "  <tbody>\n",
       "    <tr>\n",
       "      <th>0</th>\n",
       "      <td>1.0</td>\n",
       "      <td>6.00</td>\n",
       "      <td>11.00</td>\n",
       "    </tr>\n",
       "    <tr>\n",
       "      <th>1</th>\n",
       "      <td>2.0</td>\n",
       "      <td>8.25</td>\n",
       "      <td>12.00</td>\n",
       "    </tr>\n",
       "    <tr>\n",
       "      <th>2</th>\n",
       "      <td>3.0</td>\n",
       "      <td>8.00</td>\n",
       "      <td>13.00</td>\n",
       "    </tr>\n",
       "    <tr>\n",
       "      <th>3</th>\n",
       "      <td>4.0</td>\n",
       "      <td>9.00</td>\n",
       "      <td>12.75</td>\n",
       "    </tr>\n",
       "    <tr>\n",
       "      <th>4</th>\n",
       "      <td>5.0</td>\n",
       "      <td>10.00</td>\n",
       "      <td>15.00</td>\n",
       "    </tr>\n",
       "  </tbody>\n",
       "</table>\n",
       "</div>"
      ],
      "text/plain": [
       "     A      B      C\n",
       "0  1.0   6.00  11.00\n",
       "1  2.0   8.25  12.00\n",
       "2  3.0   8.00  13.00\n",
       "3  4.0   9.00  12.75\n",
       "4  5.0  10.00  15.00"
      ]
     },
     "metadata": {},
     "output_type": "display_data"
    }
   ],
   "source": [
    "import pandas as pd\n",
    "import numpy as np\n",
    "\n",
    "# Create a sample DataFrame\n",
    "data = {\n",
    "    'A': [1, 2, np.nan, 4, 5],\n",
    "    'B': [6, np.nan, 8, 9, 10],\n",
    "    'C': [11, 12, 13, np.nan, 15]\n",
    "}\n",
    "\n",
    "df = pd.DataFrame(data)\n",
    "\n",
    "# Impute missing values with the mean of the column\n",
    "imputed_df = df.fillna(df.mean())\n",
    "\n",
    "# Print the original DataFrame\n",
    "print(\"Original DataFrame:\")\n",
    "display(df)\n",
    "\n",
    "# Print the DataFrame after imputation\n",
    "print(\"\\nDataFrame after imputation:\")\n",
    "display(imputed_df)"
   ]
  },
  {
   "cell_type": "markdown",
   "id": "b89c6a13",
   "metadata": {
    "id": "b89c6a13"
   },
   "source": [
    "**Forward fill:**<br>\n",
    "Replace NaN s with last observed value"
   ]
  },
  {
   "cell_type": "code",
   "execution_count": 9,
   "id": "7227e046",
   "metadata": {
    "id": "7227e046",
    "outputId": "bd5a2b30-b07e-4d0f-84d2-6b1f678b4c52"
   },
   "outputs": [
    {
     "name": "stdout",
     "output_type": "stream",
     "text": [
      "Original DataFrame:\n"
     ]
    },
    {
     "data": {
      "text/html": [
       "<div>\n",
       "<style scoped>\n",
       "    .dataframe tbody tr th:only-of-type {\n",
       "        vertical-align: middle;\n",
       "    }\n",
       "\n",
       "    .dataframe tbody tr th {\n",
       "        vertical-align: top;\n",
       "    }\n",
       "\n",
       "    .dataframe thead th {\n",
       "        text-align: right;\n",
       "    }\n",
       "</style>\n",
       "<table border=\"1\" class=\"dataframe\">\n",
       "  <thead>\n",
       "    <tr style=\"text-align: right;\">\n",
       "      <th></th>\n",
       "      <th>A</th>\n",
       "      <th>B</th>\n",
       "      <th>C</th>\n",
       "    </tr>\n",
       "  </thead>\n",
       "  <tbody>\n",
       "    <tr>\n",
       "      <th>0</th>\n",
       "      <td>1.0</td>\n",
       "      <td>6.0</td>\n",
       "      <td>11.0</td>\n",
       "    </tr>\n",
       "    <tr>\n",
       "      <th>1</th>\n",
       "      <td>2.0</td>\n",
       "      <td>NaN</td>\n",
       "      <td>12.0</td>\n",
       "    </tr>\n",
       "    <tr>\n",
       "      <th>2</th>\n",
       "      <td>NaN</td>\n",
       "      <td>8.0</td>\n",
       "      <td>13.0</td>\n",
       "    </tr>\n",
       "    <tr>\n",
       "      <th>3</th>\n",
       "      <td>4.0</td>\n",
       "      <td>9.0</td>\n",
       "      <td>NaN</td>\n",
       "    </tr>\n",
       "    <tr>\n",
       "      <th>4</th>\n",
       "      <td>5.0</td>\n",
       "      <td>10.0</td>\n",
       "      <td>15.0</td>\n",
       "    </tr>\n",
       "  </tbody>\n",
       "</table>\n",
       "</div>"
      ],
      "text/plain": [
       "     A     B     C\n",
       "0  1.0   6.0  11.0\n",
       "1  2.0   NaN  12.0\n",
       "2  NaN   8.0  13.0\n",
       "3  4.0   9.0   NaN\n",
       "4  5.0  10.0  15.0"
      ]
     },
     "metadata": {},
     "output_type": "display_data"
    },
    {
     "name": "stdout",
     "output_type": "stream",
     "text": [
      "\n",
      "DataFrame after imputation:\n"
     ]
    },
    {
     "data": {
      "text/html": [
       "<div>\n",
       "<style scoped>\n",
       "    .dataframe tbody tr th:only-of-type {\n",
       "        vertical-align: middle;\n",
       "    }\n",
       "\n",
       "    .dataframe tbody tr th {\n",
       "        vertical-align: top;\n",
       "    }\n",
       "\n",
       "    .dataframe thead th {\n",
       "        text-align: right;\n",
       "    }\n",
       "</style>\n",
       "<table border=\"1\" class=\"dataframe\">\n",
       "  <thead>\n",
       "    <tr style=\"text-align: right;\">\n",
       "      <th></th>\n",
       "      <th>A</th>\n",
       "      <th>B</th>\n",
       "      <th>C</th>\n",
       "    </tr>\n",
       "  </thead>\n",
       "  <tbody>\n",
       "    <tr>\n",
       "      <th>0</th>\n",
       "      <td>1.0</td>\n",
       "      <td>6.0</td>\n",
       "      <td>11.0</td>\n",
       "    </tr>\n",
       "    <tr>\n",
       "      <th>1</th>\n",
       "      <td>2.0</td>\n",
       "      <td>6.0</td>\n",
       "      <td>12.0</td>\n",
       "    </tr>\n",
       "    <tr>\n",
       "      <th>2</th>\n",
       "      <td>2.0</td>\n",
       "      <td>8.0</td>\n",
       "      <td>13.0</td>\n",
       "    </tr>\n",
       "    <tr>\n",
       "      <th>3</th>\n",
       "      <td>4.0</td>\n",
       "      <td>9.0</td>\n",
       "      <td>13.0</td>\n",
       "    </tr>\n",
       "    <tr>\n",
       "      <th>4</th>\n",
       "      <td>5.0</td>\n",
       "      <td>10.0</td>\n",
       "      <td>15.0</td>\n",
       "    </tr>\n",
       "  </tbody>\n",
       "</table>\n",
       "</div>"
      ],
      "text/plain": [
       "     A     B     C\n",
       "0  1.0   6.0  11.0\n",
       "1  2.0   6.0  12.0\n",
       "2  2.0   8.0  13.0\n",
       "3  4.0   9.0  13.0\n",
       "4  5.0  10.0  15.0"
      ]
     },
     "metadata": {},
     "output_type": "display_data"
    }
   ],
   "source": [
    "import pandas as pd\n",
    "import numpy as np\n",
    "\n",
    "# Create a sample DataFrame\n",
    "data = {\n",
    "    'A': [1, 2, np.nan, 4, 5],\n",
    "    'B': [6, np.nan, 8, 9, 10],\n",
    "    'C': [11, 12, 13, np.nan, 15]\n",
    "}\n",
    "\n",
    "df = pd.DataFrame(data)\n",
    "\n",
    "# Impute missing values using forward fill\n",
    "imputed_df = df.fillna(method='ffill')\n",
    "\n",
    "# Print the original DataFrame\n",
    "print(\"Original DataFrame:\")\n",
    "display(df)\n",
    "\n",
    "# Print the DataFrame after imputation\n",
    "print(\"\\nDataFrame after imputation:\")\n",
    "display(imputed_df)"
   ]
  },
  {
   "cell_type": "markdown",
   "id": "52aa9416",
   "metadata": {
    "id": "52aa9416"
   },
   "source": [
    "**Backfill:** <br>\n",
    "Replace NaN s with next observed value"
   ]
  },
  {
   "cell_type": "code",
   "execution_count": 10,
   "id": "4f60356b",
   "metadata": {
    "id": "4f60356b",
    "outputId": "c6e8b200-33e9-4134-9ead-b0a0463adf00"
   },
   "outputs": [
    {
     "name": "stdout",
     "output_type": "stream",
     "text": [
      "Original DataFrame:\n"
     ]
    },
    {
     "data": {
      "text/html": [
       "<div>\n",
       "<style scoped>\n",
       "    .dataframe tbody tr th:only-of-type {\n",
       "        vertical-align: middle;\n",
       "    }\n",
       "\n",
       "    .dataframe tbody tr th {\n",
       "        vertical-align: top;\n",
       "    }\n",
       "\n",
       "    .dataframe thead th {\n",
       "        text-align: right;\n",
       "    }\n",
       "</style>\n",
       "<table border=\"1\" class=\"dataframe\">\n",
       "  <thead>\n",
       "    <tr style=\"text-align: right;\">\n",
       "      <th></th>\n",
       "      <th>A</th>\n",
       "      <th>B</th>\n",
       "      <th>C</th>\n",
       "    </tr>\n",
       "  </thead>\n",
       "  <tbody>\n",
       "    <tr>\n",
       "      <th>0</th>\n",
       "      <td>1.0</td>\n",
       "      <td>6.0</td>\n",
       "      <td>11.0</td>\n",
       "    </tr>\n",
       "    <tr>\n",
       "      <th>1</th>\n",
       "      <td>2.0</td>\n",
       "      <td>NaN</td>\n",
       "      <td>12.0</td>\n",
       "    </tr>\n",
       "    <tr>\n",
       "      <th>2</th>\n",
       "      <td>NaN</td>\n",
       "      <td>8.0</td>\n",
       "      <td>13.0</td>\n",
       "    </tr>\n",
       "    <tr>\n",
       "      <th>3</th>\n",
       "      <td>4.0</td>\n",
       "      <td>9.0</td>\n",
       "      <td>NaN</td>\n",
       "    </tr>\n",
       "    <tr>\n",
       "      <th>4</th>\n",
       "      <td>5.0</td>\n",
       "      <td>10.0</td>\n",
       "      <td>15.0</td>\n",
       "    </tr>\n",
       "  </tbody>\n",
       "</table>\n",
       "</div>"
      ],
      "text/plain": [
       "     A     B     C\n",
       "0  1.0   6.0  11.0\n",
       "1  2.0   NaN  12.0\n",
       "2  NaN   8.0  13.0\n",
       "3  4.0   9.0   NaN\n",
       "4  5.0  10.0  15.0"
      ]
     },
     "metadata": {},
     "output_type": "display_data"
    },
    {
     "name": "stdout",
     "output_type": "stream",
     "text": [
      "\n",
      "DataFrame after imputation:\n"
     ]
    },
    {
     "data": {
      "text/html": [
       "<div>\n",
       "<style scoped>\n",
       "    .dataframe tbody tr th:only-of-type {\n",
       "        vertical-align: middle;\n",
       "    }\n",
       "\n",
       "    .dataframe tbody tr th {\n",
       "        vertical-align: top;\n",
       "    }\n",
       "\n",
       "    .dataframe thead th {\n",
       "        text-align: right;\n",
       "    }\n",
       "</style>\n",
       "<table border=\"1\" class=\"dataframe\">\n",
       "  <thead>\n",
       "    <tr style=\"text-align: right;\">\n",
       "      <th></th>\n",
       "      <th>A</th>\n",
       "      <th>B</th>\n",
       "      <th>C</th>\n",
       "    </tr>\n",
       "  </thead>\n",
       "  <tbody>\n",
       "    <tr>\n",
       "      <th>0</th>\n",
       "      <td>1.0</td>\n",
       "      <td>6.0</td>\n",
       "      <td>11.0</td>\n",
       "    </tr>\n",
       "    <tr>\n",
       "      <th>1</th>\n",
       "      <td>2.0</td>\n",
       "      <td>8.0</td>\n",
       "      <td>12.0</td>\n",
       "    </tr>\n",
       "    <tr>\n",
       "      <th>2</th>\n",
       "      <td>4.0</td>\n",
       "      <td>8.0</td>\n",
       "      <td>13.0</td>\n",
       "    </tr>\n",
       "    <tr>\n",
       "      <th>3</th>\n",
       "      <td>4.0</td>\n",
       "      <td>9.0</td>\n",
       "      <td>15.0</td>\n",
       "    </tr>\n",
       "    <tr>\n",
       "      <th>4</th>\n",
       "      <td>5.0</td>\n",
       "      <td>10.0</td>\n",
       "      <td>15.0</td>\n",
       "    </tr>\n",
       "  </tbody>\n",
       "</table>\n",
       "</div>"
      ],
      "text/plain": [
       "     A     B     C\n",
       "0  1.0   6.0  11.0\n",
       "1  2.0   8.0  12.0\n",
       "2  4.0   8.0  13.0\n",
       "3  4.0   9.0  15.0\n",
       "4  5.0  10.0  15.0"
      ]
     },
     "metadata": {},
     "output_type": "display_data"
    }
   ],
   "source": [
    "import pandas as pd\n",
    "import numpy as np\n",
    "\n",
    "# Create a sample DataFrame\n",
    "data = {\n",
    "    'A': [1, 2, np.nan, 4, 5],\n",
    "    'B': [6, np.nan, 8, 9, 10],\n",
    "    'C': [11, 12, 13, np.nan, 15]\n",
    "}\n",
    "\n",
    "df = pd.DataFrame(data)\n",
    "\n",
    "# Impute missing values using backfill\n",
    "imputed_df = df.fillna(method='bfill')\n",
    "\n",
    "# Print the original DataFrame\n",
    "print(\"Original DataFrame:\")\n",
    "display(df)\n",
    "\n",
    "# Print the DataFrame after imputation\n",
    "print(\"\\nDataFrame after imputation:\")\n",
    "display(imputed_df)"
   ]
  },
  {
   "cell_type": "markdown",
   "id": "b16de2f4",
   "metadata": {
    "id": "b16de2f4"
   },
   "source": [
    "**Linear interpolation:** <br>\n",
    "Assumes a linear relationship between data points and utilizes non-missing values from adjacent data points to compute a value for a missing data point."
   ]
  },
  {
   "cell_type": "code",
   "execution_count": 11,
   "id": "dd7bc66e",
   "metadata": {
    "id": "dd7bc66e",
    "outputId": "473a39e6-89b7-4904-a76b-23d22bfb19ea"
   },
   "outputs": [
    {
     "name": "stdout",
     "output_type": "stream",
     "text": [
      "Original DataFrame:\n"
     ]
    },
    {
     "data": {
      "text/html": [
       "<div>\n",
       "<style scoped>\n",
       "    .dataframe tbody tr th:only-of-type {\n",
       "        vertical-align: middle;\n",
       "    }\n",
       "\n",
       "    .dataframe tbody tr th {\n",
       "        vertical-align: top;\n",
       "    }\n",
       "\n",
       "    .dataframe thead th {\n",
       "        text-align: right;\n",
       "    }\n",
       "</style>\n",
       "<table border=\"1\" class=\"dataframe\">\n",
       "  <thead>\n",
       "    <tr style=\"text-align: right;\">\n",
       "      <th></th>\n",
       "      <th>A</th>\n",
       "      <th>B</th>\n",
       "      <th>C</th>\n",
       "    </tr>\n",
       "  </thead>\n",
       "  <tbody>\n",
       "    <tr>\n",
       "      <th>0</th>\n",
       "      <td>1.0</td>\n",
       "      <td>6.0</td>\n",
       "      <td>11.0</td>\n",
       "    </tr>\n",
       "    <tr>\n",
       "      <th>1</th>\n",
       "      <td>2.0</td>\n",
       "      <td>NaN</td>\n",
       "      <td>12.0</td>\n",
       "    </tr>\n",
       "    <tr>\n",
       "      <th>2</th>\n",
       "      <td>NaN</td>\n",
       "      <td>8.0</td>\n",
       "      <td>13.0</td>\n",
       "    </tr>\n",
       "    <tr>\n",
       "      <th>3</th>\n",
       "      <td>4.0</td>\n",
       "      <td>9.0</td>\n",
       "      <td>NaN</td>\n",
       "    </tr>\n",
       "    <tr>\n",
       "      <th>4</th>\n",
       "      <td>5.0</td>\n",
       "      <td>10.0</td>\n",
       "      <td>15.0</td>\n",
       "    </tr>\n",
       "  </tbody>\n",
       "</table>\n",
       "</div>"
      ],
      "text/plain": [
       "     A     B     C\n",
       "0  1.0   6.0  11.0\n",
       "1  2.0   NaN  12.0\n",
       "2  NaN   8.0  13.0\n",
       "3  4.0   9.0   NaN\n",
       "4  5.0  10.0  15.0"
      ]
     },
     "metadata": {},
     "output_type": "display_data"
    },
    {
     "name": "stdout",
     "output_type": "stream",
     "text": [
      "\n",
      "DataFrame after imputation:\n"
     ]
    },
    {
     "data": {
      "text/html": [
       "<div>\n",
       "<style scoped>\n",
       "    .dataframe tbody tr th:only-of-type {\n",
       "        vertical-align: middle;\n",
       "    }\n",
       "\n",
       "    .dataframe tbody tr th {\n",
       "        vertical-align: top;\n",
       "    }\n",
       "\n",
       "    .dataframe thead th {\n",
       "        text-align: right;\n",
       "    }\n",
       "</style>\n",
       "<table border=\"1\" class=\"dataframe\">\n",
       "  <thead>\n",
       "    <tr style=\"text-align: right;\">\n",
       "      <th></th>\n",
       "      <th>A</th>\n",
       "      <th>B</th>\n",
       "      <th>C</th>\n",
       "    </tr>\n",
       "  </thead>\n",
       "  <tbody>\n",
       "    <tr>\n",
       "      <th>0</th>\n",
       "      <td>1.0</td>\n",
       "      <td>6.0</td>\n",
       "      <td>11.0</td>\n",
       "    </tr>\n",
       "    <tr>\n",
       "      <th>1</th>\n",
       "      <td>2.0</td>\n",
       "      <td>7.0</td>\n",
       "      <td>12.0</td>\n",
       "    </tr>\n",
       "    <tr>\n",
       "      <th>2</th>\n",
       "      <td>3.0</td>\n",
       "      <td>8.0</td>\n",
       "      <td>13.0</td>\n",
       "    </tr>\n",
       "    <tr>\n",
       "      <th>3</th>\n",
       "      <td>4.0</td>\n",
       "      <td>9.0</td>\n",
       "      <td>14.0</td>\n",
       "    </tr>\n",
       "    <tr>\n",
       "      <th>4</th>\n",
       "      <td>5.0</td>\n",
       "      <td>10.0</td>\n",
       "      <td>15.0</td>\n",
       "    </tr>\n",
       "  </tbody>\n",
       "</table>\n",
       "</div>"
      ],
      "text/plain": [
       "     A     B     C\n",
       "0  1.0   6.0  11.0\n",
       "1  2.0   7.0  12.0\n",
       "2  3.0   8.0  13.0\n",
       "3  4.0   9.0  14.0\n",
       "4  5.0  10.0  15.0"
      ]
     },
     "metadata": {},
     "output_type": "display_data"
    }
   ],
   "source": [
    "import pandas as pd\n",
    "import numpy as np\n",
    "\n",
    "# Create a sample DataFrame\n",
    "data = {\n",
    "    'A': [1, 2, np.nan, 4, 5],\n",
    "    'B': [6, np.nan, 8, 9, 10],\n",
    "    'C': [11, 12, 13, np.nan, 15]\n",
    "}\n",
    "\n",
    "df = pd.DataFrame(data)\n",
    "\n",
    "# Impute missing values using linear interpolation\n",
    "imputed_df = df.interpolate()\n",
    "\n",
    "# Print the original DataFrame\n",
    "print(\"Original DataFrame:\")\n",
    "display(df)\n",
    "\n",
    "# Print the DataFrame after imputation\n",
    "print(\"\\nDataFrame after imputation:\")\n",
    "display(imputed_df)"
   ]
  },
  {
   "cell_type": "markdown",
   "id": "5ef760e5",
   "metadata": {
    "id": "5ef760e5"
   },
   "source": [
    "**KNN based:** <br>\n",
    "Filling in missing values using the k-Nearest Neighbors approach. Each missing feature is imputed using values from n neighbors nearest neighbors that have a value for the feature. The feature of the neighbors are averaged uniformly or weighted by distance to each neighbor."
   ]
  },
  {
   "cell_type": "code",
   "execution_count": 12,
   "id": "a7e73887",
   "metadata": {
    "id": "a7e73887",
    "outputId": "7a59f1d3-bf44-42d2-ed09-8dbee9cb1fe4"
   },
   "outputs": [
    {
     "name": "stdout",
     "output_type": "stream",
     "text": [
      "Original DataFrame:\n"
     ]
    },
    {
     "data": {
      "text/html": [
       "<div>\n",
       "<style scoped>\n",
       "    .dataframe tbody tr th:only-of-type {\n",
       "        vertical-align: middle;\n",
       "    }\n",
       "\n",
       "    .dataframe tbody tr th {\n",
       "        vertical-align: top;\n",
       "    }\n",
       "\n",
       "    .dataframe thead th {\n",
       "        text-align: right;\n",
       "    }\n",
       "</style>\n",
       "<table border=\"1\" class=\"dataframe\">\n",
       "  <thead>\n",
       "    <tr style=\"text-align: right;\">\n",
       "      <th></th>\n",
       "      <th>A</th>\n",
       "      <th>B</th>\n",
       "      <th>C</th>\n",
       "    </tr>\n",
       "  </thead>\n",
       "  <tbody>\n",
       "    <tr>\n",
       "      <th>0</th>\n",
       "      <td>2.0</td>\n",
       "      <td>26.0</td>\n",
       "      <td>11.0</td>\n",
       "    </tr>\n",
       "    <tr>\n",
       "      <th>1</th>\n",
       "      <td>5.0</td>\n",
       "      <td>NaN</td>\n",
       "      <td>22.0</td>\n",
       "    </tr>\n",
       "    <tr>\n",
       "      <th>2</th>\n",
       "      <td>NaN</td>\n",
       "      <td>18.0</td>\n",
       "      <td>33.0</td>\n",
       "    </tr>\n",
       "    <tr>\n",
       "      <th>3</th>\n",
       "      <td>10.0</td>\n",
       "      <td>90.0</td>\n",
       "      <td>NaN</td>\n",
       "    </tr>\n",
       "    <tr>\n",
       "      <th>4</th>\n",
       "      <td>15.0</td>\n",
       "      <td>170.0</td>\n",
       "      <td>75.0</td>\n",
       "    </tr>\n",
       "  </tbody>\n",
       "</table>\n",
       "</div>"
      ],
      "text/plain": [
       "      A      B     C\n",
       "0   2.0   26.0  11.0\n",
       "1   5.0    NaN  22.0\n",
       "2   NaN   18.0  33.0\n",
       "3  10.0   90.0   NaN\n",
       "4  15.0  170.0  75.0"
      ]
     },
     "metadata": {},
     "output_type": "display_data"
    },
    {
     "name": "stdout",
     "output_type": "stream",
     "text": [
      "\n",
      "DataFrame after imputation:\n"
     ]
    },
    {
     "data": {
      "text/html": [
       "<div>\n",
       "<style scoped>\n",
       "    .dataframe tbody tr th:only-of-type {\n",
       "        vertical-align: middle;\n",
       "    }\n",
       "\n",
       "    .dataframe tbody tr th {\n",
       "        vertical-align: top;\n",
       "    }\n",
       "\n",
       "    .dataframe thead th {\n",
       "        text-align: right;\n",
       "    }\n",
       "</style>\n",
       "<table border=\"1\" class=\"dataframe\">\n",
       "  <thead>\n",
       "    <tr style=\"text-align: right;\">\n",
       "      <th></th>\n",
       "      <th>A</th>\n",
       "      <th>B</th>\n",
       "      <th>C</th>\n",
       "    </tr>\n",
       "  </thead>\n",
       "  <tbody>\n",
       "    <tr>\n",
       "      <th>0</th>\n",
       "      <td>2.0</td>\n",
       "      <td>26.0</td>\n",
       "      <td>11.0</td>\n",
       "    </tr>\n",
       "    <tr>\n",
       "      <th>1</th>\n",
       "      <td>5.0</td>\n",
       "      <td>58.0</td>\n",
       "      <td>22.0</td>\n",
       "    </tr>\n",
       "    <tr>\n",
       "      <th>2</th>\n",
       "      <td>3.5</td>\n",
       "      <td>18.0</td>\n",
       "      <td>33.0</td>\n",
       "    </tr>\n",
       "    <tr>\n",
       "      <th>3</th>\n",
       "      <td>10.0</td>\n",
       "      <td>90.0</td>\n",
       "      <td>16.5</td>\n",
       "    </tr>\n",
       "    <tr>\n",
       "      <th>4</th>\n",
       "      <td>15.0</td>\n",
       "      <td>170.0</td>\n",
       "      <td>75.0</td>\n",
       "    </tr>\n",
       "  </tbody>\n",
       "</table>\n",
       "</div>"
      ],
      "text/plain": [
       "      A      B     C\n",
       "0   2.0   26.0  11.0\n",
       "1   5.0   58.0  22.0\n",
       "2   3.5   18.0  33.0\n",
       "3  10.0   90.0  16.5\n",
       "4  15.0  170.0  75.0"
      ]
     },
     "metadata": {},
     "output_type": "display_data"
    }
   ],
   "source": [
    "import pandas as pd\n",
    "import numpy as np\n",
    "from sklearn.impute import KNNImputer\n",
    "\n",
    "# Create a sample DataFrame\n",
    "data = {\n",
    "    'A': [2, 5, np.nan, 10, 15],\n",
    "    'B': [26, np.nan, 18, 90, 170],\n",
    "    'C': [11, 22, 33, np.nan, 75]\n",
    "}\n",
    "\n",
    "df = pd.DataFrame(data)\n",
    "\n",
    "# Create KNNImputer object with k=2\n",
    "imputer = KNNImputer(n_neighbors=2)\n",
    "\n",
    "# Perform KNN imputation\n",
    "imputed_data = imputer.fit_transform(df)\n",
    "\n",
    "# Convert the imputed data back to DataFrame\n",
    "imputed_df = pd.DataFrame(imputed_data, columns=df.columns)\n",
    "\n",
    "# Print the original DataFrame\n",
    "print(\"Original DataFrame:\")\n",
    "display(df)\n",
    "\n",
    "# Print the DataFrame after imputation\n",
    "print(\"\\nDataFrame after imputation:\")\n",
    "display(imputed_df)"
   ]
  },
  {
   "cell_type": "markdown",
   "id": "f4f399c1",
   "metadata": {
    "id": "f4f399c1"
   },
   "source": [
    "## 1.3 Exercises"
   ]
  },
  {
   "cell_type": "markdown",
   "id": "4a649a6d",
   "metadata": {
    "id": "4a649a6d"
   },
   "source": [
    "For each dataset:\n",
    "* Find the missing values\n",
    "* Select the best approach to imput them"
   ]
  },
  {
   "cell_type": "code",
   "execution_count": 13,
   "id": "f7a2fac6",
   "metadata": {
    "id": "f7a2fac6",
    "outputId": "dee7f03c-3fa9-4e50-9efd-6e9dafb29d57"
   },
   "outputs": [
    {
     "name": "stdout",
     "output_type": "stream",
     "text": [
      "Original DataFrame:\n"
     ]
    },
    {
     "data": {
      "text/html": [
       "<div>\n",
       "<style scoped>\n",
       "    .dataframe tbody tr th:only-of-type {\n",
       "        vertical-align: middle;\n",
       "    }\n",
       "\n",
       "    .dataframe tbody tr th {\n",
       "        vertical-align: top;\n",
       "    }\n",
       "\n",
       "    .dataframe thead th {\n",
       "        text-align: right;\n",
       "    }\n",
       "</style>\n",
       "<table border=\"1\" class=\"dataframe\">\n",
       "  <thead>\n",
       "    <tr style=\"text-align: right;\">\n",
       "      <th></th>\n",
       "      <th>Value</th>\n",
       "    </tr>\n",
       "  </thead>\n",
       "  <tbody>\n",
       "    <tr>\n",
       "      <th>2023-01-01</th>\n",
       "      <td>10.0</td>\n",
       "    </tr>\n",
       "    <tr>\n",
       "      <th>2023-01-02</th>\n",
       "      <td>15.0</td>\n",
       "    </tr>\n",
       "    <tr>\n",
       "      <th>2023-01-03</th>\n",
       "      <td>NaN</td>\n",
       "    </tr>\n",
       "    <tr>\n",
       "      <th>2023-01-04</th>\n",
       "      <td>20.0</td>\n",
       "    </tr>\n",
       "    <tr>\n",
       "      <th>2023-01-05</th>\n",
       "      <td>30.0</td>\n",
       "    </tr>\n",
       "    <tr>\n",
       "      <th>2023-01-06</th>\n",
       "      <td>NaN</td>\n",
       "    </tr>\n",
       "    <tr>\n",
       "      <th>2023-01-07</th>\n",
       "      <td>35.0</td>\n",
       "    </tr>\n",
       "    <tr>\n",
       "      <th>2023-01-08</th>\n",
       "      <td>40.0</td>\n",
       "    </tr>\n",
       "    <tr>\n",
       "      <th>2023-01-09</th>\n",
       "      <td>NaN</td>\n",
       "    </tr>\n",
       "    <tr>\n",
       "      <th>2023-01-10</th>\n",
       "      <td>50.0</td>\n",
       "    </tr>\n",
       "  </tbody>\n",
       "</table>\n",
       "</div>"
      ],
      "text/plain": [
       "            Value\n",
       "2023-01-01   10.0\n",
       "2023-01-02   15.0\n",
       "2023-01-03    NaN\n",
       "2023-01-04   20.0\n",
       "2023-01-05   30.0\n",
       "2023-01-06    NaN\n",
       "2023-01-07   35.0\n",
       "2023-01-08   40.0\n",
       "2023-01-09    NaN\n",
       "2023-01-10   50.0"
      ]
     },
     "metadata": {},
     "output_type": "display_data"
    }
   ],
   "source": [
    "# Dataframe 1\n",
    "\n",
    "import pandas as pd\n",
    "import numpy as np\n",
    "\n",
    "# Create a time series dataset with missing data\n",
    "dates = pd.date_range(start='2023-01-01', periods=10, freq='D')\n",
    "data = {'Value': [10, 15, np.nan, 20, 30, np.nan, 35, 40,  np.nan, 50]}\n",
    "df = pd.DataFrame(data, index=dates)\n",
    "\n",
    "# Print the original DataFrame\n",
    "print(\"Original DataFrame:\")\n",
    "display(df)"
   ]
  },
  {
   "cell_type": "code",
   "execution_count": 14,
   "id": "7f3765e9",
   "metadata": {
    "id": "7f3765e9",
    "outputId": "6e6252bf-4061-45a8-9f3a-5387ae78a710"
   },
   "outputs": [
    {
     "name": "stdout",
     "output_type": "stream",
     "text": [
      "Original DataFrame:\n"
     ]
    },
    {
     "data": {
      "text/html": [
       "<div>\n",
       "<style scoped>\n",
       "    .dataframe tbody tr th:only-of-type {\n",
       "        vertical-align: middle;\n",
       "    }\n",
       "\n",
       "    .dataframe tbody tr th {\n",
       "        vertical-align: top;\n",
       "    }\n",
       "\n",
       "    .dataframe thead th {\n",
       "        text-align: right;\n",
       "    }\n",
       "</style>\n",
       "<table border=\"1\" class=\"dataframe\">\n",
       "  <thead>\n",
       "    <tr style=\"text-align: right;\">\n",
       "      <th></th>\n",
       "      <th>age</th>\n",
       "      <th>height</th>\n",
       "      <th>weight</th>\n",
       "    </tr>\n",
       "  </thead>\n",
       "  <tbody>\n",
       "    <tr>\n",
       "      <th>0</th>\n",
       "      <td>25.0</td>\n",
       "      <td>160.0</td>\n",
       "      <td>60.0</td>\n",
       "    </tr>\n",
       "    <tr>\n",
       "      <th>1</th>\n",
       "      <td>30.0</td>\n",
       "      <td>165.0</td>\n",
       "      <td>65.0</td>\n",
       "    </tr>\n",
       "    <tr>\n",
       "      <th>2</th>\n",
       "      <td>65.0</td>\n",
       "      <td>NaN</td>\n",
       "      <td>60.0</td>\n",
       "    </tr>\n",
       "    <tr>\n",
       "      <th>3</th>\n",
       "      <td>75.0</td>\n",
       "      <td>NaN</td>\n",
       "      <td>NaN</td>\n",
       "    </tr>\n",
       "    <tr>\n",
       "      <th>4</th>\n",
       "      <td>25.0</td>\n",
       "      <td>170.0</td>\n",
       "      <td>75.0</td>\n",
       "    </tr>\n",
       "    <tr>\n",
       "      <th>5</th>\n",
       "      <td>NaN</td>\n",
       "      <td>175.0</td>\n",
       "      <td>NaN</td>\n",
       "    </tr>\n",
       "    <tr>\n",
       "      <th>6</th>\n",
       "      <td>20.0</td>\n",
       "      <td>180.0</td>\n",
       "      <td>NaN</td>\n",
       "    </tr>\n",
       "    <tr>\n",
       "      <th>7</th>\n",
       "      <td>40.0</td>\n",
       "      <td>185.0</td>\n",
       "      <td>80.0</td>\n",
       "    </tr>\n",
       "    <tr>\n",
       "      <th>8</th>\n",
       "      <td>60.0</td>\n",
       "      <td>NaN</td>\n",
       "      <td>85.0</td>\n",
       "    </tr>\n",
       "    <tr>\n",
       "      <th>9</th>\n",
       "      <td>65.0</td>\n",
       "      <td>NaN</td>\n",
       "      <td>90.0</td>\n",
       "    </tr>\n",
       "  </tbody>\n",
       "</table>\n",
       "</div>"
      ],
      "text/plain": [
       "    age  height  weight\n",
       "0  25.0   160.0    60.0\n",
       "1  30.0   165.0    65.0\n",
       "2  65.0     NaN    60.0\n",
       "3  75.0     NaN     NaN\n",
       "4  25.0   170.0    75.0\n",
       "5   NaN   175.0     NaN\n",
       "6  20.0   180.0     NaN\n",
       "7  40.0   185.0    80.0\n",
       "8  60.0     NaN    85.0\n",
       "9  65.0     NaN    90.0"
      ]
     },
     "metadata": {},
     "output_type": "display_data"
    }
   ],
   "source": [
    "# Dataframe 2\n",
    "import pandas as pd\n",
    "import numpy as np\n",
    "from sklearn.impute import KNNImputer\n",
    "\n",
    "# Create a dataset with missing data\n",
    "data = {\n",
    "    'age': [25, 30, 65, 75, 25, np.nan, 20, 40, 60, 65],\n",
    "    'height': [160, 165, np.nan, np.nan, 170, 175, 180, 185, np.nan, np.nan],\n",
    "    'weight': [60, 65, 60, np.nan, 75, np.nan, np.nan, 80, 85, 90]\n",
    "}\n",
    "\n",
    "df = pd.DataFrame(data)\n",
    "\n",
    "# Print the original DataFrame\n",
    "print(\"Original DataFrame:\")\n",
    "display(df)\n"
   ]
  },
  {
   "cell_type": "code",
   "execution_count": 15,
   "id": "002d84ae",
   "metadata": {},
   "outputs": [
    {
     "data": {
      "text/html": [
       "<div>\n",
       "<style scoped>\n",
       "    .dataframe tbody tr th:only-of-type {\n",
       "        vertical-align: middle;\n",
       "    }\n",
       "\n",
       "    .dataframe tbody tr th {\n",
       "        vertical-align: top;\n",
       "    }\n",
       "\n",
       "    .dataframe thead th {\n",
       "        text-align: right;\n",
       "    }\n",
       "</style>\n",
       "<table border=\"1\" class=\"dataframe\">\n",
       "  <thead>\n",
       "    <tr style=\"text-align: right;\">\n",
       "      <th></th>\n",
       "      <th>age</th>\n",
       "      <th>height</th>\n",
       "      <th>weight</th>\n",
       "    </tr>\n",
       "  </thead>\n",
       "  <tbody>\n",
       "    <tr>\n",
       "      <th>count</th>\n",
       "      <td>9.000000</td>\n",
       "      <td>6.000000</td>\n",
       "      <td>7.000000</td>\n",
       "    </tr>\n",
       "    <tr>\n",
       "      <th>mean</th>\n",
       "      <td>45.000000</td>\n",
       "      <td>172.500000</td>\n",
       "      <td>73.571429</td>\n",
       "    </tr>\n",
       "    <tr>\n",
       "      <th>std</th>\n",
       "      <td>21.213203</td>\n",
       "      <td>9.354143</td>\n",
       "      <td>12.149858</td>\n",
       "    </tr>\n",
       "    <tr>\n",
       "      <th>min</th>\n",
       "      <td>20.000000</td>\n",
       "      <td>160.000000</td>\n",
       "      <td>60.000000</td>\n",
       "    </tr>\n",
       "    <tr>\n",
       "      <th>25%</th>\n",
       "      <td>25.000000</td>\n",
       "      <td>166.250000</td>\n",
       "      <td>62.500000</td>\n",
       "    </tr>\n",
       "    <tr>\n",
       "      <th>50%</th>\n",
       "      <td>40.000000</td>\n",
       "      <td>172.500000</td>\n",
       "      <td>75.000000</td>\n",
       "    </tr>\n",
       "    <tr>\n",
       "      <th>75%</th>\n",
       "      <td>65.000000</td>\n",
       "      <td>178.750000</td>\n",
       "      <td>82.500000</td>\n",
       "    </tr>\n",
       "    <tr>\n",
       "      <th>max</th>\n",
       "      <td>75.000000</td>\n",
       "      <td>185.000000</td>\n",
       "      <td>90.000000</td>\n",
       "    </tr>\n",
       "  </tbody>\n",
       "</table>\n",
       "</div>"
      ],
      "text/plain": [
       "             age      height     weight\n",
       "count   9.000000    6.000000   7.000000\n",
       "mean   45.000000  172.500000  73.571429\n",
       "std    21.213203    9.354143  12.149858\n",
       "min    20.000000  160.000000  60.000000\n",
       "25%    25.000000  166.250000  62.500000\n",
       "50%    40.000000  172.500000  75.000000\n",
       "75%    65.000000  178.750000  82.500000\n",
       "max    75.000000  185.000000  90.000000"
      ]
     },
     "execution_count": 15,
     "metadata": {},
     "output_type": "execute_result"
    }
   ],
   "source": [
    "# Age - imput avg\n",
    "df.describe()"
   ]
  },
  {
   "cell_type": "code",
   "execution_count": 16,
   "id": "4122faf6",
   "metadata": {
    "id": "4122faf6",
    "outputId": "ccd57085-b1f2-41eb-cfeb-6f9dc04eb5a2"
   },
   "outputs": [
    {
     "name": "stdout",
     "output_type": "stream",
     "text": [
      "Original DataFrame:\n"
     ]
    },
    {
     "data": {
      "text/html": [
       "<div>\n",
       "<style scoped>\n",
       "    .dataframe tbody tr th:only-of-type {\n",
       "        vertical-align: middle;\n",
       "    }\n",
       "\n",
       "    .dataframe tbody tr th {\n",
       "        vertical-align: top;\n",
       "    }\n",
       "\n",
       "    .dataframe thead th {\n",
       "        text-align: right;\n",
       "    }\n",
       "</style>\n",
       "<table border=\"1\" class=\"dataframe\">\n",
       "  <thead>\n",
       "    <tr style=\"text-align: right;\">\n",
       "      <th></th>\n",
       "      <th>A</th>\n",
       "      <th>B</th>\n",
       "      <th>C</th>\n",
       "      <th>D</th>\n",
       "      <th>E</th>\n",
       "    </tr>\n",
       "  </thead>\n",
       "  <tbody>\n",
       "    <tr>\n",
       "      <th>0</th>\n",
       "      <td>1.0</td>\n",
       "      <td>NaN</td>\n",
       "      <td>1.0</td>\n",
       "      <td>NaN</td>\n",
       "      <td>NaN</td>\n",
       "    </tr>\n",
       "    <tr>\n",
       "      <th>1</th>\n",
       "      <td>2.0</td>\n",
       "      <td>2.0</td>\n",
       "      <td>NaN</td>\n",
       "      <td>NaN</td>\n",
       "      <td>NaN</td>\n",
       "    </tr>\n",
       "    <tr>\n",
       "      <th>2</th>\n",
       "      <td>NaN</td>\n",
       "      <td>3.0</td>\n",
       "      <td>3.0</td>\n",
       "      <td>NaN</td>\n",
       "      <td>3.0</td>\n",
       "    </tr>\n",
       "    <tr>\n",
       "      <th>3</th>\n",
       "      <td>4.0</td>\n",
       "      <td>NaN</td>\n",
       "      <td>4.0</td>\n",
       "      <td>NaN</td>\n",
       "      <td>NaN</td>\n",
       "    </tr>\n",
       "    <tr>\n",
       "      <th>4</th>\n",
       "      <td>5.0</td>\n",
       "      <td>5.0</td>\n",
       "      <td>NaN</td>\n",
       "      <td>NaN</td>\n",
       "      <td>NaN</td>\n",
       "    </tr>\n",
       "  </tbody>\n",
       "</table>\n",
       "</div>"
      ],
      "text/plain": [
       "     A    B    C   D    E\n",
       "0  1.0  NaN  1.0 NaN  NaN\n",
       "1  2.0  2.0  NaN NaN  NaN\n",
       "2  NaN  3.0  3.0 NaN  3.0\n",
       "3  4.0  NaN  4.0 NaN  NaN\n",
       "4  5.0  5.0  NaN NaN  NaN"
      ]
     },
     "metadata": {},
     "output_type": "display_data"
    }
   ],
   "source": [
    "# Dataframe 3\n",
    "import pandas as pd\n",
    "import numpy as np\n",
    "\n",
    "# Create a dataset with 5 columns\n",
    "data = {\n",
    "    'A': [1, 2, np.nan, 4, 5],\n",
    "    'B': [np.nan, 2, 3, np.nan, 5],\n",
    "    'C': [1, np.nan, 3, 4, np.nan],\n",
    "    'D': [np.nan, np.nan, np.nan, np.nan, np.nan],\n",
    "    'E': [np.nan, np.nan, 3, np.nan, np.nan]\n",
    "}\n",
    "\n",
    "df = pd.DataFrame(data)\n",
    "\n",
    "\n",
    "print(\"Original DataFrame:\")\n",
    "display(df)"
   ]
  },
  {
   "cell_type": "markdown",
   "id": "c7cec037",
   "metadata": {
    "id": "c7cec037"
   },
   "source": [
    "**Solutions**:"
   ]
  },
  {
   "cell_type": "code",
   "execution_count": 17,
   "id": "9948118f",
   "metadata": {
    "id": "9948118f",
    "outputId": "4397d90f-803a-437e-c32b-c05a24b2dedc"
   },
   "outputs": [],
   "source": [
    "# Dataset1: Imputed with ffil (any kind of timesries imputation would work)\n"
   ]
  },
  {
   "cell_type": "code",
   "execution_count": 18,
   "id": "85b933d7",
   "metadata": {
    "id": "85b933d7"
   },
   "outputs": [],
   "source": [
    "# Dataframe 2\n"
   ]
  },
  {
   "cell_type": "code",
   "execution_count": 19,
   "id": "ac4eb61b",
   "metadata": {
    "id": "ac4eb61b",
    "outputId": "1e3e26c9-64f3-459d-a7e4-1e45631ddcbd"
   },
   "outputs": [],
   "source": [
    "# Dataframe3: Since some columns have a lot of nas, we remove them\n",
    "\n"
   ]
  },
  {
   "cell_type": "markdown",
   "id": "5b739855",
   "metadata": {
    "id": "5b739855"
   },
   "source": [
    "# 2. Handling outliers"
   ]
  },
  {
   "cell_type": "markdown",
   "id": "fbd161e9",
   "metadata": {
    "id": "fbd161e9"
   },
   "source": [
    "Outliers are data points which lie at an abnormal distance from other points in a random sample from a population. In statistics, an outlier is a data point that differs significantly from other observations. They may be due to variability in the measurement or may indicate experimental errors. <br>\n",
    "\n",
    "Outliers can skew trends and forecasts modelled from datasets, negatively impacting the quality and accuracy of decisions. Actively monitoring and performing outlier detection can flag errors in datasets and combat concept drift in machine learning models. If outliers are not identified and removed, models can become less accurate"
   ]
  },
  {
   "cell_type": "markdown",
   "id": "cb167787",
   "metadata": {
    "id": "cb167787"
   },
   "source": [
    "![3_outliers_!.PNG](attachment:3_outliers_!.PNG)"
   ]
  },
  {
   "cell_type": "markdown",
   "id": "4ce61667",
   "metadata": {
    "id": "4ce61667"
   },
   "source": [
    "## 2.1 Types of outliers"
   ]
  },
  {
   "cell_type": "markdown",
   "id": "6b6eebb7",
   "metadata": {
    "id": "6b6eebb7"
   },
   "source": [
    "**Point outlier:** <br>\n",
    "Individual data point that sits outside of the range of the rest of the dataset. There may be a clear pattern, trend or grouping within the dataset, and an outlier as a data point will be significantly different to this. Point outliers can often be attributed to an error with the measurement or input of the data."
   ]
  },
  {
   "cell_type": "code",
   "execution_count": 20,
   "id": "92107394",
   "metadata": {
    "id": "92107394",
    "outputId": "4a3ff353-6afb-45a2-c884-3ebc25920d59"
   },
   "outputs": [
    {
     "data": {
      "image/png": "[encoded data removed]",
      "text/plain": [
       "<Figure size 432x288 with 1 Axes>"
      ]
     },
     "metadata": {
      "needs_background": "light"
     },
     "output_type": "display_data"
    }
   ],
   "source": [
    "import numpy as np\n",
    "import matplotlib.pyplot as plt\n",
    "\n",
    "# Generate random data\n",
    "np.random.seed(42)\n",
    "x = np.random.normal(0, 1, 100)  # Randomly generated 100 data points\n",
    "\n",
    "# Add an outlier\n",
    "outlier_index = np.random.randint(0, 100)  # Randomly choose an index\n",
    "y = np.copy(x)\n",
    "y[outlier_index] = 10  # Set the value of the chosen index as an outlier\n",
    "\n",
    "# Plot the data\n",
    "plt.scatter(x, y)\n",
    "plt.xlabel('X')\n",
    "plt.ylabel('Y')\n",
    "plt.title('Dataset with Point Outlier')\n",
    "plt.show()\n"
   ]
  },
  {
   "cell_type": "markdown",
   "id": "292347db",
   "metadata": {
    "id": "292347db"
   },
   "source": [
    "**Contextual outliers:** <br>\n",
    "Data point is significantly different from the dataset, but only within a specific context. The context of a dataset may change seasonally or fluctuate with wider economic trends or behavior. A contextual outlier will be noticeable when the context of the dataset changes. This could be seasonal weather changes, economic fluctuations, changes in customer behavior for key holidays, or even the time of the day. For this reason, a contextual outlier may seem like a normal data point in other contexts."
   ]
  },
  {
   "cell_type": "code",
   "execution_count": 21,
   "id": "0d637935",
   "metadata": {
    "id": "0d637935",
    "outputId": "b782242a-e9fd-4b82-a27f-8c27bc1a0244"
   },
   "outputs": [
    {
     "data": {
      "image/png": "[encoded data removed]",
      "text/plain": [
       "<Figure size 432x288 with 1 Axes>"
      ]
     },
     "metadata": {
      "needs_background": "light"
     },
     "output_type": "display_data"
    }
   ],
   "source": [
    "import numpy as np\n",
    "import matplotlib.pyplot as plt\n",
    "\n",
    "# Generate time series data\n",
    "np.random.seed(42)\n",
    "\n",
    "# Define the time range\n",
    "t = np.arange(0, 10, 0.1)\n",
    "\n",
    "# Generate the time series values\n",
    "data = np.sin(t) + np.random.normal(0, 0.2, len(t))\n",
    "\n",
    "# Add an outlier\n",
    "outlier_index = np.random.randint(0, len(t))\n",
    "data[outlier_index] = 5  # Set the value of the outlier point\n",
    "\n",
    "# Plot the time series data\n",
    "plt.plot(t, data)\n",
    "plt.xlabel('Time')\n",
    "plt.ylabel('Value')\n",
    "plt.title('Dataset with Contextual Outlier')\n",
    "plt.show()"
   ]
  },
  {
   "cell_type": "markdown",
   "id": "8c780d5b",
   "metadata": {
    "id": "8c780d5b"
   },
   "source": [
    "**Collective outliers:** <br>\n",
    "It's when a series of data points differ significantly from the trends in the rest of the dataset. The individual data points within a collective outlier may not seem like a point outlier or a contextual outlier. It’s when the data points are considered as a collection that anomalous patterns are observed. For this reason, collective outliers can be the hardest type of outlier to identify."
   ]
  },
  {
   "cell_type": "code",
   "execution_count": 22,
   "id": "b6b44264",
   "metadata": {
    "id": "b6b44264",
    "outputId": "2cde7f71-fe46-4680-bc66-050e88b3eb2f"
   },
   "outputs": [
    {
     "data": {
      "image/png": "[encoded data removed]",
      "text/plain": [
       "<Figure size 432x288 with 1 Axes>"
      ]
     },
     "metadata": {
      "needs_background": "light"
     },
     "output_type": "display_data"
    }
   ],
   "source": [
    "import numpy as np\n",
    "import matplotlib.pyplot as plt\n",
    "\n",
    "# Generate random data for a dense cluster\n",
    "np.random.seed(42)\n",
    "\n",
    "# Cluster\n",
    "x = np.random.normal(5, 1, 100)\n",
    "y = np.random.normal(5, 1, 100)\n",
    "\n",
    "# Add a collective outlier\n",
    "outlier_x = np.random.normal(10, 1)\n",
    "outlier_y = np.random.normal(2, 1)\n",
    "\n",
    "# Plot the data\n",
    "plt.scatter(x, y)\n",
    "plt.scatter(outlier_x, outlier_y, color='red', label='Collective Outlier')\n",
    "plt.xlabel('X')\n",
    "plt.ylabel('Y')\n",
    "plt.title('Dataset with Collective Outlier')\n",
    "plt.legend()\n",
    "plt.show()"
   ]
  },
  {
   "cell_type": "markdown",
   "id": "437ded2e",
   "metadata": {
    "id": "437ded2e"
   },
   "source": [
    "## 2.2 Outlier Detection Techniques"
   ]
  },
  {
   "cell_type": "markdown",
   "id": "504e0dbf",
   "metadata": {
    "id": "504e0dbf"
   },
   "source": [
    "### 2.2.1 Interquartile Range Method"
   ]
  },
  {
   "cell_type": "markdown",
   "id": "3a9d9928",
   "metadata": {
    "id": "3a9d9928"
   },
   "source": [
    "The concept of the Interquartile Range (IQR) is used to build the boxplot graphs. IQR is a concept in statistics that is used to measure the statistical dispersion and data variability by dividing the dataset into quartiles. It is the difference between the third quartile and the first quartile (IQR = Q3 -Q1). Outliers in this case are defined as the observations that are below (Q1 − 1.5x IQR) or boxplot lower whisker or above (Q3 + 1.5x IQR) or boxplot upper whisker. It can be visually represented by the box plot."
   ]
  },
  {
   "cell_type": "markdown",
   "id": "ed2e17aa",
   "metadata": {
    "id": "ed2e17aa"
   },
   "source": [
    "![4_outliers_iqr.PNG](attachment:4_outliers_iqr.PNG)"
   ]
  },
  {
   "cell_type": "markdown",
   "id": "e70deb98",
   "metadata": {
    "id": "e70deb98"
   },
   "source": [
    "**Example**:"
   ]
  },
  {
   "cell_type": "code",
   "execution_count": 23,
   "id": "57c45b21",
   "metadata": {
    "id": "57c45b21",
    "outputId": "066fc0db-3743-48a2-c3bb-ccabc6e08b87"
   },
   "outputs": [
    {
     "name": "stdout",
     "output_type": "stream",
     "text": [
      "List of data:\n",
      "[1, 2, 3, 4, 5, 6, 7, 8, 9, 10, 11, 12, 13, 14, 15, 16, 17, 18, 19, 20, 21, 22, 23, 24, 25, 26, 27, 28, 29, 30, 31, 32, 33, 34, 35, 36, 37, 38, 39, 40, 41, 42, 43, 44, 45, 46, 47, 48, 49, 50, 51, 52, 53, 54, 55, 56, 57, 58, 59, 60, 61, 62, 63, 64, 65, 66, 67, 68, 69, 70, 71, 72, 73, 74, 75, 76, 77, 78, 79, 80, 81, 82, 83, 84, 85, 86, 87, 88, 89, 90, 91, 92, 93, 94, 95, 96, 97, 98, 99, 100, -25, -100, 200]\n"
     ]
    },
    {
     "data": {
      "text/plain": [
       "Text(0.5, 1.0, 'Representation of the data')"
      ]
     },
     "execution_count": 23,
     "metadata": {},
     "output_type": "execute_result"
    },
    {
     "data": {
      "image/png": "[encoded data removed]",
      "text/plain": [
       "<Figure size 288x576 with 1 Axes>"
      ]
     },
     "metadata": {
      "needs_background": "light"
     },
     "output_type": "display_data"
    }
   ],
   "source": [
    "import seaborn as sns\n",
    "\n",
    "# Define data\n",
    "data = list(range(1, 100+1))\n",
    "data.extend([-25, -100, 200])\n",
    "print('List of data:')\n",
    "print(data)\n",
    "\n",
    "# Plot boxplot\n",
    "plt.figure(figsize = (4,8))\n",
    "sns.boxplot(y = data)\n",
    "plt.title('Representation of the data')"
   ]
  },
  {
   "cell_type": "code",
   "execution_count": 24,
   "id": "63425b11",
   "metadata": {
    "id": "63425b11",
    "outputId": "58262b5b-bd45-46d2-f14f-41fc498c5444"
   },
   "outputs": [
    {
     "name": "stdout",
     "output_type": "stream",
     "text": [
      "The IQR is 51.0\n",
      "The lower bound value is -52.0\n",
      "The upper bound value is 152.0\n",
      "The list of outliers are [-100, 200]\n"
     ]
    }
   ],
   "source": [
    "# Detect outliers:\n",
    "\n",
    "# Calculate quartiles 25% and 75%\n",
    "q25, q75 = np.quantile(data, 0.25), np.quantile(data, 0.75)\n",
    "\n",
    "# calculate the IQR\n",
    "iqr = q75 - q25\n",
    "\n",
    "# calculate the outlier cutoff\n",
    "cut_off = iqr * 1.5\n",
    "\n",
    "# calculate the lower and upper bound value\n",
    "lower, upper = q25 - cut_off, q75 + cut_off\n",
    "\n",
    "# Calculate the number of records below and above lower and above bound value respectively\n",
    "outliers = [x for x in data if (x >= upper) | (x <= lower)]\n",
    "\n",
    "# Print basic information (can be removed)\n",
    "print('The IQR is',iqr)\n",
    "print('The lower bound value is', lower)\n",
    "print('The upper bound value is', upper)\n",
    "print('The list of outliers are', outliers)"
   ]
  },
  {
   "cell_type": "markdown",
   "id": "99fb52cc",
   "metadata": {
    "id": "99fb52cc"
   },
   "source": [
    "### 2.2.2 Standard Deviation Method"
   ]
  },
  {
   "cell_type": "markdown",
   "id": "868f17b8",
   "metadata": {
    "id": "868f17b8"
   },
   "source": [
    "Standard deviation is a metric of variance i.e. how much the individual data points are spread out from the mean. In statistics, If a data distribution is approximately normal then about 68% of the data values lie within one standard deviation of the mean and about 95% are within two standard deviations, and about 99.7% lie within three standard deviations."
   ]
  },
  {
   "cell_type": "markdown",
   "id": "6b9a04f4",
   "metadata": {
    "id": "6b9a04f4"
   },
   "source": [
    "![5_outliers_sd.PNG](attachment:5_outliers_sd.PNG)"
   ]
  },
  {
   "cell_type": "code",
   "execution_count": 25,
   "id": "e51717d1",
   "metadata": {
    "id": "e51717d1",
    "outputId": "b38eaced-b375-4de9-ddd0-8936054e3264"
   },
   "outputs": [
    {
     "name": "stdout",
     "output_type": "stream",
     "text": [
      "List of data:\n",
      "[1, 2, 3, 4, 5, 6, 7, 8, 9, 10, 11, 12, 13, 14, 15, 16, 17, 18, 19, 20, 21, 22, 23, 24, 25, 26, 27, 28, 29, 30, 31, 32, 33, 34, 35, 36, 37, 38, 39, 40, 41, 42, 43, 44, 45, 46, 47, 48, 49, 50, 51, 52, 53, 54, 55, 56, 57, 58, 59, 60, 61, 62, 63, 64, 65, 66, 67, 68, 69, 70, 71, 72, 73, 74, 75, 76, 77, 78, 79, 80, 81, 82, 83, 84, 85, 86, 87, 88, 89, 90, 91, 92, 93, 94, 95, 96, 97, 98, 99, 100, -25, -100, 200]\n",
      "The mean is 49.75728155339806\n",
      "The std is 36.06479229242122\n",
      "The lower bound value is -58.43709532386559\n",
      "The upper bound value is 157.95165843066172\n",
      "The list of outliers are [-100, 200]\n"
     ]
    }
   ],
   "source": [
    "import numpy as np\n",
    "\n",
    "# Define data\n",
    "data = list(range(1, 100+1))\n",
    "data.extend([-25, -100, 200])\n",
    "print('List of data:')\n",
    "print(data)\n",
    "\n",
    "threshold=3.0\n",
    "mean = np.mean(data)\n",
    "std = np.std(data)\n",
    "cutoff = threshold * std\n",
    "lower_bound = mean - cutoff\n",
    "upper_bound = mean + cutoff\n",
    "\n",
    "# Calculate the number of records below and above lower and above bound value respectively\n",
    "outliers = [x for x in data if (x >= upper_bound) | (x <= lower_bound)]\n",
    "\n",
    "\n",
    "# Print basic information (can be removed)\n",
    "print('The mean is',mean)\n",
    "print('The std is',std)\n",
    "print('The lower bound value is', lower_bound)\n",
    "print('The upper bound value is', upper_bound)\n",
    "print('The list of outliers are', outliers)\n"
   ]
  },
  {
   "cell_type": "markdown",
   "id": "bec49bdf",
   "metadata": {
    "id": "bec49bdf"
   },
   "source": [
    "## 2.3 Outlier treatment approaches"
   ]
  },
  {
   "cell_type": "markdown",
   "id": "af5c72d9",
   "metadata": {
    "id": "af5c72d9"
   },
   "source": [
    "There exist three different options on how to treat non-error outliers:\n",
    "\n",
    "* **Keep:** When most of the detected outliers are non-error outliers and rightfully belong to the population of interest, this is a good strategy. Also, you often cannot easily identify whether or not an extreme value is a part of the population of interest or not.\n",
    "* **Delete:** The most straightforward option is to delete any outlying observation. However, this strategy bears a high risk of losing information. Especially if you find many outlying data points, try to avoid this.\n",
    "* **Recode:** Recoding outliers is a good option to treat outliers and keep as much information as possible simultaneously. This option should always be accompanied by sound reasoning and explanation.\n",
    "    * Winsorizing\n",
    "    * Imputation"
   ]
  },
  {
   "cell_type": "markdown",
   "id": "332b7da6",
   "metadata": {
    "id": "332b7da6"
   },
   "source": [
    "### 2.3.1 Winsorizing"
   ]
  },
  {
   "cell_type": "markdown",
   "id": "28bc1ce0",
   "metadata": {
    "id": "28bc1ce0"
   },
   "source": [
    "Winsorization is an outlier treatment approach that involves replacing extreme values (outliers) in a dataset with less extreme values. Instead of removing the outliers entirely, Winsorization modifies the values by replacing them with either the nearest non-outlier value or a specified percentile value."
   ]
  },
  {
   "cell_type": "code",
   "execution_count": 26,
   "id": "30dac839",
   "metadata": {
    "id": "30dac839",
    "outputId": "fa718756-ac7a-449f-b53f-d42579337322"
   },
   "outputs": [
    {
     "name": "stdout",
     "output_type": "stream",
     "text": [
      "Original data: [1, 2, 3, 4, 5, 6, 7, 8, 9, 10, 11, 12, 13, 14, 15, 16, 17, 18, 19, 20, 21, 22, 23, 24, 25, 26, 27, 28, 29, 30, 31, 32, 33, 34, 35, 36, 37, 38, 39, 40, 41, 42, 43, 44, 45, 46, 47, 48, 49, 50, 51, 52, 53, 54, 55, 56, 57, 58, 59, 60, 61, 62, 63, 64, 65, 66, 67, 68, 69, 70, 71, 72, 73, 74, 75, 76, 77, 78, 79, 80, 81, 82, 83, 84, 85, 86, 87, 88, 89, 90, 91, 92, 93, 94, 95, 96, 97, 98, 99, 100, -25, -100, 200]\n",
      "Lower limit: 4.1000000000000005\n",
      "Upper limit: 95.89999999999999\n",
      "Winsorized data: [ 4  4  4  4  5  6  7  8  9 10 11 12 13 14 15 16 17 18 19 20 21 22 23 24\n",
      " 25 26 27 28 29 30 31 32 33 34 35 36 37 38 39 40 41 42 43 44 45 46 47 48\n",
      " 49 50 51 52 53 54 55 56 57 58 59 60 61 62 63 64 65 66 67 68 69 70 71 72\n",
      " 73 74 75 76 77 78 79 80 81 82 83 84 85 86 87 88 89 90 91 92 93 94 95 95\n",
      " 95 95 95 95  4  4 95]\n"
     ]
    }
   ],
   "source": [
    "import numpy as np\n",
    "\n",
    "def winsorize(data, limits=(0.05, 0.05)):\n",
    "    \"\"\"\n",
    "    Winsorize a dataset by replacing extreme values with less extreme values.\n",
    "\n",
    "    Arguments:\n",
    "    - data: 1-D array or list, the dataset to be winsorized.\n",
    "    - limits: Tuple of two floats (lower, upper), representing the fraction of values to be replaced\n",
    "              on each tail. Default is (0.05, 0.05), which replaces 5% of the values on each tail.\n",
    "\n",
    "    Returns:\n",
    "    - winsorized_data: 1-D array, the winsorized dataset.\n",
    "    \"\"\"\n",
    "    # Copy the input data to avoid modifying the original array\n",
    "    winsorized_data = np.copy(data)\n",
    "\n",
    "    # Calculate the lower and upper limits for winsorization\n",
    "    lower_limit = np.percentile(winsorized_data, limits[0] * 100)\n",
    "    upper_limit = np.percentile(winsorized_data, 100 - limits[1] * 100)\n",
    "\n",
    "    print('Lower limit:', lower_limit)\n",
    "    print('Upper limit:', upper_limit)\n",
    "\n",
    "    # Replace values below the lower limit with the lower limit\n",
    "    winsorized_data[winsorized_data < lower_limit] = lower_limit\n",
    "\n",
    "    # Replace values above the upper limit with the upper limit\n",
    "    winsorized_data[winsorized_data > upper_limit] = upper_limit\n",
    "\n",
    "    return winsorized_data\n",
    "\n",
    "\n",
    "print('Original data:', data)\n",
    "\n",
    "winsorized_data = winsorize(data, limits=(0.05, 0.05))\n",
    "\n",
    "print('Winsorized data:', winsorized_data)"
   ]
  },
  {
   "cell_type": "markdown",
   "id": "de8b3396",
   "metadata": {
    "id": "de8b3396"
   },
   "source": [
    "### 2.3.2 Imputation"
   ]
  },
  {
   "cell_type": "markdown",
   "id": "449458f2",
   "metadata": {
    "id": "449458f2"
   },
   "source": [
    " Imputation techniques involve replacing outliers with estimated values based on other data points. This can be done using various imputation methods such as mean imputation, median imputation, or regression imputation."
   ]
  },
  {
   "cell_type": "code",
   "execution_count": 27,
   "id": "dc7665ad",
   "metadata": {
    "id": "dc7665ad",
    "outputId": "3aa97792-e437-4174-d02a-4510edcd02fa"
   },
   "outputs": [
    {
     "name": "stdout",
     "output_type": "stream",
     "text": [
      "Original data: [1, 2, 3, 4, 5, 6, 7, 8, 9, 10, 11, 12, 13, 14, 15, 16, 17, 18, 19, 20, 21, 22, 23, 24, 25, 26, 27, 28, 29, 30, 31, 32, 33, 34, 35, 36, 37, 38, 39, 40, 41, 42, 43, 44, 45, 46, 47, 48, 49, 50, 51, 52, 53, 54, 55, 56, 57, 58, 59, 60, 61, 62, 63, 64, 65, 66, 67, 68, 69, 70, 71, 72, 73, 74, 75, 76, 77, 78, 79, 80, 81, 82, 83, 84, 85, 86, 87, 88, 89, 90, 91, 92, 93, 94, 95, 96, 97, 98, 99, 100, -25, -100, 200]\n",
      "Imputed data: [  1   2   3   4   5   6   7   8   9  10  11  12  13  14  15  16  17  18\n",
      "  19  20  21  22  23  24  25  26  27  28  29  30  31  32  33  34  35  36\n",
      "  37  38  39  40  41  42  43  44  45  46  47  48  49  50  51  52  53  54\n",
      "  55  56  57  58  59  60  61  62  63  64  65  66  67  68  69  70  71  72\n",
      "  73  74  75  76  77  78  79  80  81  82  83  84  85  86  87  88  89  90\n",
      "  91  92  93  94  95  96  97  98  99 100 -25  49  49]\n"
     ]
    }
   ],
   "source": [
    "import numpy as np\n",
    "from scipy.stats import zscore\n",
    "\n",
    "def impute_outliers_mean(data, threshold=3):\n",
    "    \"\"\"\n",
    "    Impute outliers in a dataset by replacing them with the mean of the non-outlying values.\n",
    "\n",
    "    Arguments:\n",
    "    - data: 1-D array or list, the dataset containing outliers.\n",
    "    - threshold: Float, the threshold value in terms of standard deviations.\n",
    "\n",
    "    Returns:\n",
    "    - imputed_data: 1-D array, the dataset with outliers imputed using mean imputation.\n",
    "    \"\"\"\n",
    "    # Compute the z-scores for each data point\n",
    "    z_scores = np.abs(zscore(data))\n",
    "\n",
    "    # Find the indices of outliers based on the threshold\n",
    "    outlier_indices = np.where(z_scores > threshold)[0]\n",
    "\n",
    "    # Make a copy of the data for imputation\n",
    "    imputed_data = np.copy(data)\n",
    "\n",
    "    # Calculate the mean of non-outlying values\n",
    "    non_outliers_mean = np.mean(imputed_data[np.where(z_scores <= threshold)])\n",
    "\n",
    "    # Replace outliers with the mean of non-outlying values\n",
    "    imputed_data[outlier_indices] = non_outliers_mean\n",
    "\n",
    "    return imputed_data\n",
    "\n",
    "print('Original data:', data)\n",
    "\n",
    "imputed_data = impute_outliers_mean(data, threshold=3)\n",
    "\n",
    "print('Imputed data:', imputed_data)"
   ]
  },
  {
   "cell_type": "markdown",
   "id": "ef8e53cc",
   "metadata": {
    "id": "ef8e53cc"
   },
   "source": [
    "## Exercise\n",
    "\n",
    "Given the following dataset, imputate outliers  "
   ]
  },
  {
   "cell_type": "code",
   "execution_count": 28,
   "id": "8c3ea0c5",
   "metadata": {
    "id": "8c3ea0c5"
   },
   "outputs": [
    {
     "data": {
      "text/plain": [
       "array([12.48357077,  9.30867849, 13.23844269, 17.61514928,  8.82923313,\n",
       "        8.82931522, 17.89606408, 13.83717365,  7.65262807, 12.71280022,\n",
       "       50.        ,  7.67135123, 11.20981136,  0.43359878,  1.37541084,\n",
       "        7.18856235,  4.9358444 , 11.57123666,  5.45987962,  2.93848149,\n",
       "       17.32824384,  8.8711185 , 10.33764102,  2.87625907,  7.27808638,\n",
       "       10.55461295,  4.24503211, 11.87849009,  6.99680655,  8.54153125,\n",
       "        6.99146694, 19.26139092,  9.93251388,  4.71144536, 14.11272456,\n",
       "        3.89578175, 11.04431798,  0.20164938,  3.35906976, 10.98430618,\n",
       "       13.6923329 , 10.85684141,  9.42175859,  8.49448152,  2.60739005,\n",
       "        6.40077896,  7.69680615, 15.28561113, 11.71809145,  1.18479922,\n",
       "       11.62041985,  8.0745886 ,  6.61539   , 13.05838144, 15.15499761,\n",
       "       14.6564006 ,  5.80391238,  8.45393812, 11.65631716, 14.87772564,\n",
       "        7.60412881,  9.07170512,  4.46832513,  4.01896688, 14.06262911,\n",
       "       16.78120014,  9.63994939, 15.01766449, 11.80818013,  6.77440123,\n",
       "       11.80697803, 17.69018283,  9.8208698 , 17.82321828, -3.09872552,\n",
       "       14.10951252, 10.43523534,  8.50496325, 10.45880388,  0.06215543,\n",
       "        8.90164056, 11.78556286, 17.38947022,  7.40864891,  5.95753199,\n",
       "        7.49121478, 14.57701059, 11.64375555,  7.35119898, 12.56633717,\n",
       "       10.48538775, 14.84322495,  6.48973453,  8.36168927,  8.03945923,\n",
       "        2.68242526, 11.48060139, 11.30527636, 10.02556728,  8.82706433])"
      ]
     },
     "execution_count": 28,
     "metadata": {},
     "output_type": "execute_result"
    }
   ],
   "source": [
    "import numpy as np\n",
    "import matplotlib.pyplot as plt\n",
    "from sklearn.impute import SimpleImputer\n",
    "\n",
    "# Generate some random data with outliers\n",
    "np.random.seed(42)\n",
    "data = np.random.normal(loc=10, scale=5, size=100)\n",
    "data[10] = 50  # Add an outlier\n",
    "data"
   ]
  },
  {
   "cell_type": "markdown",
   "id": "7b1a053e",
   "metadata": {
    "id": "7b1a053e"
   },
   "source": [
    "**Solution**"
   ]
  },
  {
   "cell_type": "code",
   "execution_count": 29,
   "id": "472fdf5c",
   "metadata": {
    "id": "472fdf5c",
    "outputId": "0ff4df23-822c-4af6-bf0b-778b57df0aa5"
   },
   "outputs": [
    {
     "data": {
      "text/plain": [
       "<AxesSubplot:>"
      ]
     },
     "execution_count": 29,
     "metadata": {},
     "output_type": "execute_result"
    },
    {
     "data": {
      "image/png": "[encoded data removed]",
      "text/plain": [
       "<Figure size 432x288 with 1 Axes>"
      ]
     },
     "metadata": {
      "needs_background": "light"
     },
     "output_type": "display_data"
    }
   ],
   "source": [
    "import seaborn as sns\n",
    "sns.boxplot(data=data)"
   ]
  },
  {
   "cell_type": "code",
   "execution_count": 30,
   "id": "9ffb56a4",
   "metadata": {},
   "outputs": [],
   "source": [
    "# Calculate IQR,  Q1 and Q3\n",
    "data1 = pd.Series(data)\n",
    "\n",
    "per25 = data1.quantile(0.25)\n",
    "median = data1.quantile(0.50)\n",
    "per75 = data1.quantile(0.75)\n",
    "max = data1.max()\n",
    "IQRs = data1.quantile(0.75) - data1.quantile(0.25)\n",
    "lower_bound = (data1.quantile(0.25)) - 1.5*(data1.quantile(0.75) - data1.quantile(0.25))\n",
    "upper_bound = (data1.quantile(0.75)) + 1.5*(data1.quantile(0.75) - data1.quantile(0.25))"
   ]
  },
  {
   "cell_type": "code",
   "execution_count": 31,
   "id": "76bf735c",
   "metadata": {},
   "outputs": [
    {
     "name": "stdout",
     "output_type": "stream",
     "text": [
      "50.0\n",
      "-3.0987255204487223\n"
     ]
    }
   ],
   "source": [
    "for i in data1:\n",
    "    if i <= lower_bound:\n",
    "        print(i)\n",
    "    elif i >= upper_bound:\n",
    "        print(i)\n",
    "    else:\n",
    "        continue"
   ]
  },
  {
   "cell_type": "code",
   "execution_count": null,
   "id": "d6784e7b",
   "metadata": {},
   "outputs": [],
   "source": []
  },
  {
   "cell_type": "markdown",
   "id": "2f29f17e",
   "metadata": {
    "id": "2f29f17e"
   },
   "source": [
    "# 3. Dealing with categorical variables"
   ]
  },
  {
   "cell_type": "markdown",
   "id": "12deffb5",
   "metadata": {
    "id": "12deffb5"
   },
   "source": [
    "Dealing with categorical variables is important specially for the **model compatibility**: most machine learning algorithms require numerical inputs. By encoding categorical variables into numerical representations, you enable the use of these variables in various machine learning models. To utilize these variables, they need to be transformed into a numerical representation, a process called \"encoding.\" <br>\n",
    "\n",
    "Categorical variables are typically divided into two types:\n",
    "\n",
    "* **Nominal variables:** represent categories without any intrinsic order or hierarchy. For example, colors (red, blue, green) or countries (USA, UK, Germany) are nominal variables. In machine learning, nominal variables cannot be directly used in mathematical models because they lack numerical properties.  \n",
    "\n",
    "* **Ordinal variables:** Ordinal variables represent categories with a clear order or ranking. For example, educational degrees (high school, bachelor's, master's, PhD) or survey ratings (strongly disagree, disagree, neutral, agree, strongly agree) are ordinal variables. Unlike nominal variables, ordinal variables can be encoded in a way that captures the inherent order.\n",
    "\n",
    "Dealing methods:"
   ]
  },
  {
   "cell_type": "markdown",
   "id": "f7448264",
   "metadata": {
    "id": "f7448264"
   },
   "source": [
    "## 3.1 Types of encoders:"
   ]
  },
  {
   "cell_type": "markdown",
   "id": "848a3491",
   "metadata": {
    "id": "848a3491"
   },
   "source": [
    "### 3.1.1 One-Hot Encoding:"
   ]
  },
  {
   "cell_type": "markdown",
   "id": "37278442",
   "metadata": {
    "id": "37278442"
   },
   "source": [
    "Transforms each category of a **nominal variable** into a binary vector where each element represents the presence or absence of the category.\n"
   ]
  },
  {
   "cell_type": "code",
   "execution_count": 35,
   "id": "e3da1025",
   "metadata": {
    "id": "e3da1025",
    "outputId": "0e76c274-86fb-4b39-cff7-a10a740db0aa"
   },
   "outputs": [
    {
     "name": "stdout",
     "output_type": "stream",
     "text": [
      "Original data:\n"
     ]
    },
    {
     "data": {
      "text/html": [
       "<div>\n",
       "<style scoped>\n",
       "    .dataframe tbody tr th:only-of-type {\n",
       "        vertical-align: middle;\n",
       "    }\n",
       "\n",
       "    .dataframe tbody tr th {\n",
       "        vertical-align: top;\n",
       "    }\n",
       "\n",
       "    .dataframe thead th {\n",
       "        text-align: right;\n",
       "    }\n",
       "</style>\n",
       "<table border=\"1\" class=\"dataframe\">\n",
       "  <thead>\n",
       "    <tr style=\"text-align: right;\">\n",
       "      <th></th>\n",
       "      <th>id</th>\n",
       "      <th>color</th>\n",
       "    </tr>\n",
       "  </thead>\n",
       "  <tbody>\n",
       "    <tr>\n",
       "      <th>0</th>\n",
       "      <td>1</td>\n",
       "      <td>red</td>\n",
       "    </tr>\n",
       "    <tr>\n",
       "      <th>1</th>\n",
       "      <td>2</td>\n",
       "      <td>blue</td>\n",
       "    </tr>\n",
       "    <tr>\n",
       "      <th>2</th>\n",
       "      <td>3</td>\n",
       "      <td>green</td>\n",
       "    </tr>\n",
       "    <tr>\n",
       "      <th>3</th>\n",
       "      <td>4</td>\n",
       "      <td>red</td>\n",
       "    </tr>\n",
       "  </tbody>\n",
       "</table>\n",
       "</div>"
      ],
      "text/plain": [
       "   id  color\n",
       "0   1    red\n",
       "1   2   blue\n",
       "2   3  green\n",
       "3   4    red"
      ]
     },
     "metadata": {},
     "output_type": "display_data"
    },
    {
     "name": "stdout",
     "output_type": "stream",
     "text": [
      "\n",
      "Encoded data:\n"
     ]
    },
    {
     "data": {
      "text/html": [
       "<div>\n",
       "<style scoped>\n",
       "    .dataframe tbody tr th:only-of-type {\n",
       "        vertical-align: middle;\n",
       "    }\n",
       "\n",
       "    .dataframe tbody tr th {\n",
       "        vertical-align: top;\n",
       "    }\n",
       "\n",
       "    .dataframe thead th {\n",
       "        text-align: right;\n",
       "    }\n",
       "</style>\n",
       "<table border=\"1\" class=\"dataframe\">\n",
       "  <thead>\n",
       "    <tr style=\"text-align: right;\">\n",
       "      <th></th>\n",
       "      <th>id</th>\n",
       "      <th>color_blue</th>\n",
       "      <th>color_green</th>\n",
       "      <th>color_red</th>\n",
       "    </tr>\n",
       "  </thead>\n",
       "  <tbody>\n",
       "    <tr>\n",
       "      <th>0</th>\n",
       "      <td>1</td>\n",
       "      <td>0.0</td>\n",
       "      <td>0.0</td>\n",
       "      <td>1.0</td>\n",
       "    </tr>\n",
       "    <tr>\n",
       "      <th>1</th>\n",
       "      <td>2</td>\n",
       "      <td>1.0</td>\n",
       "      <td>0.0</td>\n",
       "      <td>0.0</td>\n",
       "    </tr>\n",
       "    <tr>\n",
       "      <th>2</th>\n",
       "      <td>3</td>\n",
       "      <td>0.0</td>\n",
       "      <td>1.0</td>\n",
       "      <td>0.0</td>\n",
       "    </tr>\n",
       "    <tr>\n",
       "      <th>3</th>\n",
       "      <td>4</td>\n",
       "      <td>0.0</td>\n",
       "      <td>0.0</td>\n",
       "      <td>1.0</td>\n",
       "    </tr>\n",
       "  </tbody>\n",
       "</table>\n",
       "</div>"
      ],
      "text/plain": [
       "   id  color_blue  color_green  color_red\n",
       "0   1         0.0          0.0        1.0\n",
       "1   2         1.0          0.0        0.0\n",
       "2   3         0.0          1.0        0.0\n",
       "3   4         0.0          0.0        1.0"
      ]
     },
     "metadata": {},
     "output_type": "display_data"
    }
   ],
   "source": [
    "import pandas as pd\n",
    "from sklearn.preprocessing import OneHotEncoder\n",
    "\n",
    "# Create a dataframe with a categorical variable\n",
    "df = pd.DataFrame({'id': [1,2,3,4],\n",
    "                   'color': ['red', 'blue', 'green', 'red']})\n",
    "\n",
    "# Apply one-hot encoding\n",
    "encoder = OneHotEncoder()\n",
    "encoded_data = encoder.fit_transform(df[['color']]).toarray()\n",
    "\n",
    "# Convert the encoded data back to a dataframe\n",
    "encoded_df = pd.DataFrame(encoded_data, columns=encoder.get_feature_names(['color']))\n",
    "\n",
    "\n",
    "# Concatenate the encoded dataframe with the 'id' column\n",
    "encoded_df = pd.concat([df['id'], encoded_df], axis=1)\n",
    "\n",
    "print('Original data:')\n",
    "display(df)\n",
    "print('\\nEncoded data:')\n",
    "display(encoded_df)"
   ]
  },
  {
   "cell_type": "markdown",
   "id": "7c917666",
   "metadata": {
    "id": "7c917666"
   },
   "source": [
    "### 3.1.2 Label Encoding\n",
    "\n",
    "Assigns a unique numerical value to each category of an **ordinal variable** based on its order or ranking."
   ]
  },
  {
   "cell_type": "code",
   "execution_count": null,
   "id": "42ed4989",
   "metadata": {
    "id": "42ed4989",
    "outputId": "195a0c97-4003-403e-84fe-7acafbe43e11"
   },
   "outputs": [],
   "source": [
    "import pandas as pd\n",
    "from sklearn.preprocessing import LabelEncoder\n",
    "\n",
    "# Create a dataframe with an ordinal variable\n",
    "data = {'id': [1,2,3,4],\n",
    "        'degree': ['bachelor', 'master', 'bachelor', 'phd']}\n",
    "df = pd.DataFrame(data)\n",
    "\n",
    "print('Original data:')\n",
    "display(df)\n",
    "\n",
    "# Apply label encoding\n",
    "encoder = LabelEncoder()\n",
    "df['degree_encoded'] = encoder.fit_transform(df['degree'])\n",
    "\n",
    "\n",
    "print('\\nEncoded data:')\n",
    "display(df)"
   ]
  },
  {
   "cell_type": "markdown",
   "id": "52599412",
   "metadata": {
    "id": "52599412"
   },
   "source": [
    "### 3.1.3 Ordinal Encoding\n",
    "\n",
    "Ordinal Encoding is similar to Label Encoding, but it explicitly specifies the mapping of categories to numerical values based on their order or ranking.It is suitable for **ordinal variables** where the order or hierarchy among the categories is known and needs to be preserved explicitly."
   ]
  },
  {
   "cell_type": "code",
   "execution_count": null,
   "id": "5fd070ef",
   "metadata": {
    "id": "5fd070ef",
    "outputId": "313345a0-90db-4466-924b-a11e46c08d49"
   },
   "outputs": [],
   "source": [
    "import pandas as pd\n",
    "\n",
    "# Create a dataframe with an ordinal variable\n",
    "data = {'id': [1,2,3,4],\n",
    "        'education': ['high school', 'bachelor', 'bachelor', 'master']}\n",
    "df = pd.DataFrame(data)\n",
    "\n",
    "# Define the mapping for ordinal encoding\n",
    "mapping = {'high school': 1, 'bachelor': 2, 'master': 3}\n",
    "\n",
    "print('Original data:')\n",
    "display(df)\n",
    "\n",
    "# Apply ordinal encoding to the 'color' column using the mapping\n",
    "df['education_encoded'] = df['education'].map(mapping)\n",
    "\n",
    "\n",
    "print('\\nEncoded data:')\n",
    "display(df)\n"
   ]
  },
  {
   "cell_type": "markdown",
   "id": "115bb0cc",
   "metadata": {
    "id": "115bb0cc"
   },
   "source": [
    "### 3.1.4 Target Encoding\n",
    "Also known as mean encoding, replaces each category with the mean of another variable for that category. It is particularly useful when there is a correlation between the categorical variable and the other variable."
   ]
  },
  {
   "cell_type": "code",
   "execution_count": null,
   "id": "248b18a3",
   "metadata": {
    "id": "248b18a3",
    "outputId": "44e03325-5d57-4fa2-8062-5d733b82ad64"
   },
   "outputs": [],
   "source": [
    "import pandas as pd\n",
    "\n",
    "# Creating a sample dataframe\n",
    "data = {'id': [1,2,3,4, 4],\n",
    "        'Country': ['USA', 'UK', 'Germany', 'USA', 'Germany'],\n",
    "        'GDP': [10000, 2000, 1500, 10000, 1500]}\n",
    "df = pd.DataFrame(data)\n",
    "\n",
    "# Calculating the mean GDP for each country\n",
    "mean_gdp_by_country = df.groupby('Country')['GDP'].mean()\n",
    "\n",
    "\n",
    "print('Original data:')\n",
    "display(df)\n",
    "\n",
    "# Encoding the categorical variable 'Country' using target encoding\n",
    "df['Country_Encoded'] = df['Country'].map(mean_gdp_by_country)\n",
    "\n",
    "\n",
    "print('\\nEncoded data:')\n",
    "display(df)"
   ]
  },
  {
   "cell_type": "markdown",
   "id": "00869878",
   "metadata": {
    "id": "00869878"
   },
   "source": [
    "## 3.2 Handling high-cardinality categorical variables\n",
    "\n",
    "Handling high-cardinality categorical variables refers to the techniques used to deal with categorical variables that have a large number of unique categories or levels. High-cardinality variables can pose challenges in machine learning models due to the increased dimensionality and potential sparsity of the data. <br>\n",
    "\n",
    "It's important to note that the choice of handling high-cardinality categorical variables depends on the specific dataset, problem domain, and the algorithms or models being used. It's recommended to experiment with different techniques and evaluate their impact on model performance, considering factors such as interpretability, computational efficiency, and generalization capabilities. <br>\n",
    "\n",
    "Here are a few common approaches to handle high-cardinality categorical variables:\n",
    "\n",
    "* Target Encoding: Target encoding (also known as mean encoding) replaces each category with the mean of the target variable for that category. It can be effective when there is a correlation between the categorical variable and the target variable. However, target encoding may be prone to overfitting, especially when there are categories with very few instances.\n",
    "\n",
    "* Frequency Encoding: Frequency encoding replaces each category with its frequency (count) within the dataset. It can be useful when the frequency of occurrence provides meaningful information. However, like target encoding, it may be sensitive to rare categories.\n",
    "\n",
    "* Grouping Categories: For high-cardinality variables with numerous categories, it may be beneficial to group them into broader categories. This can be done based on domain knowledge, business rules, or statistical analysis. Grouping helps reduce the number of unique levels and captures the underlying patterns or similarities in the data."
   ]
  },
  {
   "cell_type": "markdown",
   "id": "94712dcb",
   "metadata": {
    "id": "94712dcb"
   },
   "source": [
    "## 3.3 Exercises\n",
    "\n",
    "Use the most appropiate encoder for each dataframe, and encode ALL the categorical variables."
   ]
  },
  {
   "cell_type": "code",
   "execution_count": null,
   "id": "7a236f25",
   "metadata": {
    "id": "7a236f25"
   },
   "outputs": [],
   "source": [
    "import pandas as pd\n",
    "\n",
    "# Dataframe1\n",
    "data1 = {\n",
    "    'id': [1, 2, 3, 4, 5, 6, 7, 8],\n",
    "    'company': ['Tesla', 'Audi', 'Apple', 'Samsung',\n",
    "                     'Tesla', 'Audi', 'Apple', 'Samsung'],\n",
    "    'product': ['Van', 'Car', 'Phone', 'Tablet',\n",
    "                     'Car', 'Van', 'Tablet', 'Phone'],\n",
    "    'price': [60000, 25000, 1100, 700,\n",
    "              70000, 45000, 1300, 800]\n",
    "}\n",
    "df1 = pd.DataFrame(data1)\n",
    "\n",
    "\n",
    "#Dataframe2\n",
    "\n",
    "data2 = {\n",
    "    'patient_number': [1, 2, 3, 4, 5, 6],\n",
    "    'pain_intensity': ['Mild', 'Moderate', 'Severe', 'Moderate', 'Mild', 'Extreme']\n",
    "}\n",
    "\n",
    "df2 = pd.DataFrame(data2)\n",
    "\n",
    "#Dataframe3:\n",
    "\n",
    "data3 = {\n",
    "    'id': [1, 2, 3, 4, 5, 6],\n",
    "    'vehicle': ['Toyota', 'Ford', 'Honda', 'Chevrolet', 'Ford', 'Toyota'],\n",
    "    'marital_status': ['Single', 'Married', 'Divorced', 'Single', 'Married', 'Divorced']\n",
    "}\n",
    "\n",
    "df3 = pd.DataFrame(data3)"
   ]
  },
  {
   "cell_type": "code",
   "execution_count": null,
   "id": "895c70b3",
   "metadata": {},
   "outputs": [],
   "source": [
    "df1"
   ]
  },
  {
   "cell_type": "markdown",
   "id": "a4258fc8",
   "metadata": {
    "id": "a4258fc8"
   },
   "source": [
    "**Solution**"
   ]
  },
  {
   "cell_type": "code",
   "execution_count": null,
   "id": "94cd3c9c",
   "metadata": {
    "id": "94cd3c9c",
    "outputId": "a1a6018e-ef88-47ed-edda-217e9e5e0267"
   },
   "outputs": [],
   "source": [
    "for i in df1.columns:\n",
    "    print(i,df1[i].unique().size)"
   ]
  },
  {
   "cell_type": "code",
   "execution_count": null,
   "id": "a4d3e3de",
   "metadata": {},
   "outputs": [],
   "source": [
    "# Hot encoding for company and product\n",
    "import pandas as pd\n",
    "from sklearn.preprocessing import OneHotEncoder"
   ]
  },
  {
   "cell_type": "code",
   "execution_count": null,
   "id": "9c1826dd",
   "metadata": {},
   "outputs": [],
   "source": [
    "\n",
    "# Calculating the mean GDP for each country\n",
    "mean_gdp_by_country = df.groupby('Country')['GDP'].mean()\n",
    "\n",
    "\n",
    "print('Original data:')\n",
    "display(df)\n",
    "\n",
    "# Encoding the categorical variable 'Country' using target encoding\n",
    "df['Country_Encoded'] = df['Country'].map(mean_gdp_by_country)\n",
    "\n",
    "\n",
    "print('\\nEncoded data:')\n",
    "display(df)"
   ]
  },
  {
   "cell_type": "markdown",
   "id": "1ffb9720",
   "metadata": {
    "id": "1ffb9720"
   },
   "source": [
    "# 4. Feature creation\n",
    "\n",
    "Feature creation is the process of transforming existing data into new features that can provide additional information and improve the performance of machine learning models. It involves extracting meaningful insights or patterns from the existing data and representing them in a way that is more suitable for the model to learn from."
   ]
  },
  {
   "cell_type": "markdown",
   "id": "dcbcb91a",
   "metadata": {
    "id": "dcbcb91a"
   },
   "source": [
    "## 4.1 Dates"
   ]
  },
  {
   "cell_type": "code",
   "execution_count": null,
   "id": "d9ec5795",
   "metadata": {
    "id": "d9ec5795",
    "outputId": "11a24954-cde1-455d-d8f9-53dcfb12a946"
   },
   "outputs": [],
   "source": [
    "import pandas as pd\n",
    "\n",
    "# Create a sample dataframe\n",
    "data = {\n",
    "    'date': ['2023-06-24', '2023-06-25', '2023-06-26'],\n",
    "    'sales': [100, 150, 200]\n",
    "}\n",
    "df = pd.DataFrame(data)\n",
    "\n",
    "df_original = df.copy()\n",
    "\n",
    "# Convert the 'date' column to datetime format\n",
    "df['date'] = pd.to_datetime(df['date'])\n",
    "\n",
    "# Create new features based on date\n",
    "df['day_of_week'] = df['date'].dt.dayofweek\n",
    "df['month'] = df['date'].dt.month\n",
    "df['year'] = df['date'].dt.year\n",
    "\n",
    "print('Original data:')\n",
    "display(df_original)\n",
    "\n",
    "print('\\nData with new features:')\n",
    "display(df)\n"
   ]
  },
  {
   "cell_type": "markdown",
   "id": "4381f287",
   "metadata": {
    "id": "4381f287"
   },
   "source": [
    "## Splitting:"
   ]
  },
  {
   "cell_type": "code",
   "execution_count": null,
   "id": "07b8dc6a",
   "metadata": {
    "id": "07b8dc6a",
    "outputId": "63cd6b0c-06f7-4996-fa8f-8827f08ab2cf"
   },
   "outputs": [],
   "source": [
    "import pandas as pd\n",
    "\n",
    "# Create a dictionary with data\n",
    "data = {\n",
    "    'id': [1, 2, 3, 4, 5, 6, 7, 8],\n",
    "    'composed_name': ['Mr John Kennedy', 'Ms Hanna Montana', 'Dr Robert Smith', 'Mr James Johnson',\n",
    "                      'Mrs Emily Davis', 'Dr Christopher Lee', 'Mr Michael Wilson', 'Ms Sarah Brown']\n",
    "}\n",
    "\n",
    "# Create the DataFrame\n",
    "df = pd.DataFrame(data)\n",
    "df_original = df.copy()\n",
    "\n",
    "# Split 'composed_name' into 'title' and 'name' columns\n",
    "df[['title', 'name']] = df['composed_name'].str.split(' ', 1, expand=True)\n",
    "\n",
    "print('Original data:')\n",
    "display(df_original)\n",
    "\n",
    "print('\\nData with new features:')\n",
    "display(df)"
   ]
  },
  {
   "cell_type": "markdown",
   "id": "08936658",
   "metadata": {
    "id": "08936658"
   },
   "source": [
    "# 5. Feature scaling and normalization\n",
    "\n",
    "Feature scaling is an **essential preprocessing step** in many machine learning algorithms. It involves transforming input features to a common scale, usually in the range of 0 to 1 or with a mean of 0 and a standard deviation of 1. The importance of feature scaling can be summarized in the following points:\n",
    "\n",
    "* **Normalization of features:** Scaling input features to a common scale prevents dominance and ensures proportional contribution during learning.\n",
    "\n",
    "* **Improvement of model performance:** Scaling enhances algorithm convergence and stability, leading to better performance.\n",
    "\n",
    "* **Distance-based algorithms:** Scaling features ensures accurate distance calculations and prevents bias towards features with larger scales.\n",
    "\n",
    "* **Regularization and regularization penalties:** Scaling balances regularization penalties across features, preventing domination by a single feature.\n",
    "\n",
    "It's important to note that not all machine learning algorithms require feature scaling. Decision trees, random forests, and algorithms based on ensemble methods are typically insensitive to feature scaling. However, it's generally a good practice to apply feature scaling to maintain consistency and avoid potential issues when switching algorithms or incorporating new features into the model."
   ]
  },
  {
   "cell_type": "code",
   "execution_count": null,
   "id": "1470a302",
   "metadata": {
    "id": "1470a302",
    "outputId": "e04a05ed-2939-4ecb-cc62-4b2191ae2828"
   },
   "outputs": [],
   "source": [
    "import numpy as np\n",
    "import pandas as pd\n",
    "import matplotlib.pyplot as plt\n",
    "\n",
    "# Set random seed for reproducibility\n",
    "np.random.seed(42)\n",
    "\n",
    "# Generate random data\n",
    "n = 100  # Number of data points\n",
    "age = np.random.randint(20, 91, size=n)\n",
    "income = age * 1000 + np.random.normal(0, 10000, size=n)\n",
    "id = np.arange(1, n+1)\n",
    "\n",
    "# Create a DataFrame from the data\n",
    "data = pd.DataFrame({'ID': id, 'Age': age, 'Income': income})\n",
    "\n",
    "# Highlight the data point\n",
    "TARGET_ID = 85\n",
    "highlight_data = data[data['ID'] == TARGET_ID]\n",
    "\n",
    "# Plot the data\n",
    "plt.figure(figsize=(8, 6))\n",
    "plt.scatter(age, income)\n",
    "plt.scatter(highlight_data['Age'], highlight_data['Income'], color='orange')\n",
    "plt.xlabel('Age')\n",
    "plt.ylabel('Income')\n",
    "plt.title('Age vs. Income')\n",
    "plt.show()\n",
    "\n"
   ]
  },
  {
   "cell_type": "markdown",
   "id": "588e7fd4",
   "metadata": {
    "id": "588e7fd4"
   },
   "source": [
    "Find the 5 closest neighbors using Euclidean distance"
   ]
  },
  {
   "cell_type": "code",
   "execution_count": null,
   "id": "094c7e93",
   "metadata": {
    "id": "094c7e93",
    "outputId": "aa3bc939-5e41-40f3-ec94-0f1aeba6c234"
   },
   "outputs": [],
   "source": [
    "from scipy.spatial.distance import cdist\n",
    "\n",
    "# Find the 5 people closest to id\n",
    "target_row = data[data['ID'] == TARGET_ID]\n",
    "distances = cdist(target_row[['Age', 'Income']], data[['Age', 'Income']])\n",
    "closest_indices = np.argsort(distances.squeeze())[:5]\n",
    "closest_data = data.iloc[closest_indices]\n",
    "\n",
    "# Plot the data\n",
    "plt.figure(figsize=(8, 6))\n",
    "plt.scatter(data['Age'], data['Income'])\n",
    "plt.scatter(closest_data['Age'], closest_data['Income'], color='red')\n",
    "plt.scatter(highlight_data['Age'], highlight_data['Income'], color='orange')\n",
    "plt.xlabel('Age')\n",
    "plt.ylabel('Income')\n",
    "plt.title('Age vs. Income')\n",
    "plt.show()"
   ]
  },
  {
   "cell_type": "code",
   "execution_count": null,
   "id": "3f6b5c18",
   "metadata": {
    "id": "3f6b5c18",
    "outputId": "a5bef098-d4ba-4baa-973d-c6504fb75927"
   },
   "outputs": [],
   "source": [
    "closest_data"
   ]
  },
  {
   "cell_type": "markdown",
   "id": "379c8975",
   "metadata": {
    "id": "379c8975"
   },
   "source": [
    "Now recheck scaling data"
   ]
  },
  {
   "cell_type": "code",
   "execution_count": null,
   "id": "d86a1e4f",
   "metadata": {
    "id": "d86a1e4f",
    "outputId": "161cb744-f201-418e-ba9d-4ba2e0748aa6"
   },
   "outputs": [],
   "source": [
    "# Rescale the variables using z-score standardization\n",
    "scalated = data.copy()\n",
    "scalated['Age_scalated'] = (scalated['Age'] - scalated['Age'].mean()) / scalated['Age'].std()\n",
    "scalated['Income_scalated'] = (scalated['Income'] - scalated['Income'].mean()) / scalated['Income'].std()\n",
    "\n",
    "# Highlight the data point\n",
    "highlight_scalated = scalated[scalated['ID'] == TARGET_ID]\n",
    "\n",
    "# Find the 5 people closest to id\n",
    "target_row_scalated = scalated[scalated['ID'] == target_id]\n",
    "distances_scalated = cdist(target_row_scalated[['Age_scalated', 'Income_scalated']], scalated[['Age_scalated', 'Income_scalated']])\n",
    "closest_indices_scalated = np.argsort(distances_scalated.squeeze())[:5]\n",
    "closest_data_scalated = scalated.iloc[closest_indices_scalated]\n",
    "\n",
    "# Plot the rescaled data\n",
    "plt.figure(figsize=(10, 6))\n",
    "plt.scatter(scalated['Age_scalated'], scalated['Income_scalated'])\n",
    "plt.scatter(closest_data_scalated['Age_scalated'], closest_data_scalated['Income_scalated'], color='red')\n",
    "plt.scatter(highlight_scalated['Age_scalated'], highlight_scalated['Income_scalated'], color='orange')\n",
    "plt.xlabel('Age (Rescaled)')\n",
    "plt.ylabel('Income (Rescaled)')\n",
    "plt.title('Rescaled Data')\n",
    "plt.show()"
   ]
  },
  {
   "cell_type": "code",
   "execution_count": null,
   "id": "f53f555f",
   "metadata": {
    "id": "f53f555f",
    "outputId": "815ccfe4-6673-4c7b-cab5-e0ac922c71b1"
   },
   "outputs": [],
   "source": [
    "closest_data_scalated"
   ]
  },
  {
   "cell_type": "markdown",
   "id": "f0e67432",
   "metadata": {
    "id": "f0e67432"
   },
   "source": [
    "There are 2 techniques we can apply: normalization and standardization:\n",
    "![7_normalization_standarization.png](attachment:7_normalization_standarization.png)"
   ]
  },
  {
   "cell_type": "markdown",
   "id": "46e2f3f8",
   "metadata": {
    "id": "46e2f3f8"
   },
   "source": [
    "## 5.1 Normalization (Min-Max scaling)\n",
    "\n",
    "Normalization (or min-max normalization) scale all values in a fixed range between 0 and 1. This transformation does not change the distribution of the feature and due to the decreased standard deviations, the effects of the outliers increases. Therefore, before normalization, it is recommended to handle the outliers\n",
    "$$ X{norm} = \\frac{X - min(X)}{max(X) - min(X)} $$"
   ]
  },
  {
   "cell_type": "code",
   "execution_count": null,
   "id": "482f8cb4",
   "metadata": {
    "id": "482f8cb4",
    "outputId": "c10f40d5-e32e-46f8-8593-7de4c3fa0d72"
   },
   "outputs": [],
   "source": [
    "import pandas as pd\n",
    "\n",
    "def normalize_data(data):\n",
    "    min_value = min(data)\n",
    "    max_value = max(data)\n",
    "    normalized_data = []\n",
    "\n",
    "    for value in data:\n",
    "        normalized_value = (value - min_value) / (max_value - min_value)\n",
    "        normalized_data.append(normalized_value)\n",
    "\n",
    "    return normalized_data\n",
    "\n",
    "\n",
    "# Create sample data\n",
    "data = {\n",
    "    'id': [1, 2, 3, 4, 5, 6, 7, 8, 9, 10],\n",
    "    'age': [25, 30, 35, 40, 45, 50, 55, 60, 65, 70],\n",
    "    'income': [90000, 130000, 140000, 100000, 60000, 70000,110000, 50000,  80000,  120000]\n",
    "}\n",
    "\n",
    "# Create dataframe\n",
    "df = pd.DataFrame(data)\n",
    "\n",
    "# Normalize 'age' column\n",
    "df['age_normalized'] = normalize_data(df['age'])\n",
    "\n",
    "# Normalize 'income' column\n",
    "df['income_normalized'] = normalize_data(df['income'])\n",
    "\n",
    "# Display the dataframe\n",
    "display(df)"
   ]
  },
  {
   "cell_type": "markdown",
   "id": "28be0582",
   "metadata": {
    "id": "28be0582"
   },
   "source": [
    "## 5.2 Standardization\n",
    "\n",
    "It is useful when the data follows a normal distribution. Geometrically, it transforms (shifts) the data to the mean of the original data to the\n",
    "origin (μ=o) and squishes or expands the points to unit standard deviation (σ=1), respectively, without affecting the shape of the distribution.\n",
    "$$ Z = \\frac{x - \\mu}{\\sigma} $$"
   ]
  },
  {
   "cell_type": "code",
   "execution_count": null,
   "id": "476d67d5",
   "metadata": {
    "id": "476d67d5",
    "outputId": "665879b6-b810-446d-c420-9e8846166e37"
   },
   "outputs": [],
   "source": [
    "import pandas as pd\n",
    "import numpy as np\n",
    "\n",
    "# Create sample data\n",
    "data = {\n",
    "    'id': [1, 2, 3, 4, 5, 6, 7, 8, 9, 10],\n",
    "    'age': [25, 30, 35, 40, 45, 50, 55, 60, 65, 70],\n",
    "    'income': [90000, 130000, 140000, 100000, 60000, 70000,110000, 50000,  80000,  120000]\n",
    "}\n",
    "\n",
    "# Create dataframe\n",
    "df = pd.DataFrame(data)\n",
    "\n",
    "# Standardize 'age' column\n",
    "df['age_standardized'] = (df['age'] - np.mean(df['age'])) / np.std(df['age'])\n",
    "\n",
    "# Standardize 'income' column\n",
    "df['income_standardized'] = (df['income'] - np.mean(df['income'])) / np.std(df['income'])\n",
    "\n",
    "# Display the dataframe\n",
    "display(df)"
   ]
  },
  {
   "cell_type": "markdown",
   "id": "b88ded34",
   "metadata": {
    "id": "b88ded34"
   },
   "source": [
    "## Exercise\n",
    "\n",
    "Using the same data frame as in the chart example:\n",
    "* Normalize data\n",
    "* Check if you get the same 4 closests neighbors as in the example (id = 71)\n",
    "* Denormalize data: get the normalized variables back to the original value"
   ]
  },
  {
   "cell_type": "code",
   "execution_count": 36,
   "id": "0e295d5e",
   "metadata": {
    "id": "0e295d5e"
   },
   "outputs": [],
   "source": [
    "import numpy as np\n",
    "import pandas as pd\n",
    "import matplotlib.pyplot as plt\n",
    "\n",
    "# Set random seed for reproducibility\n",
    "np.random.seed(42)\n",
    "\n",
    "# Generate random data\n",
    "n = 100  # Number of data points\n",
    "age = np.random.randint(20, 91, size=n)\n",
    "income = age * 1000 + np.random.normal(0, 10000, size=n)\n",
    "id = np.arange(1, n+1)\n",
    "\n",
    "# Create a DataFrame from the data\n",
    "data = pd.DataFrame({'ID': id, 'Age': age, 'Income': income})"
   ]
  },
  {
   "cell_type": "markdown",
   "id": "6d694779",
   "metadata": {
    "id": "6d694779"
   },
   "source": [
    "**Solution:**"
   ]
  },
  {
   "cell_type": "markdown",
   "id": "L7o7gnIkVjbx",
   "metadata": {
    "id": "L7o7gnIkVjbx"
   },
   "source": [
    "## Exercise:\n",
    "Given the following dataset, apply the different techniques we have seen in class:\n",
    "- Deleitons\n",
    "- Imputations\n",
    "- Feature Engineering\n",
    "- Encode categorical variables\n",
    "- Visualization of the 2 variables you consider inffluence more the probability of surviving\n",
    "- Which insights can you get from the data?\n",
    "\n",
    "The dataset contains the details of a subset of the passengers that were on board of the Titanic, and importantly, will reveal whether they survived or not. Data:\n",
    "- survival:\tSurvival\t0 = No, 1 = Yes\n",
    "- pclass: Ticket class\t1 = 1st, 2 = 2nd, 3 = 3rd\n",
    "- sex: Sex\n",
    "- Age: Age in years\n",
    "- sibsp: # of siblings / spouses aboard the Titanic\n",
    "- parch: # of parents / children aboard the Titanic\n",
    "- ticket: Ticket number\n",
    "- fare: Passenger fare\n",
    "- cabin: Cabin number\n",
    "- embarked: Port of Embarkation\tC = Cherbourg, Q = Queenstown, S = Southampton"
   ]
  },
  {
   "cell_type": "code",
   "execution_count": null,
   "id": "h3SLVSXPVnOd",
   "metadata": {
    "colab": {
     "base_uri": "https://localhost:8080/",
     "height": 261
    },
    "executionInfo": {
     "elapsed": 5106,
     "status": "ok",
     "timestamp": 1696316450349,
     "user": {
      "displayName": "Anna Corretger",
      "userId": "10711709713593060072"
     },
     "user_tz": -120
    },
    "id": "h3SLVSXPVnOd",
    "outputId": "ad24e3c2-fa03-4273-9f16-7924ff7a61c9"
   },
   "outputs": [],
   "source": [
    "from sklearn.datasets import fetch_openml\n",
    "import pandas as pd\n",
    "\n",
    "# Load the Titanic dataset from scikit-learn\n",
    "titanic = fetch_openml('titanic', version=1)\n",
    "\n",
    "# Convert the dataset to a Pandas DataFrame\n",
    "titanic_df = pd.DataFrame(data=titanic.data, columns=titanic.feature_names)\n",
    "titanic_df['survival'] = titanic.target  # Add the target column\n",
    "\n",
    "# Remove columns\n",
    "columns_to_remove = ['boat', 'body', 'home.dest', 'name']\n",
    "titanic_df.drop(columns=columns_to_remove, inplace=True)\n",
    "\n",
    "# Display the first few rows of the DataFrame\n",
    "titanic_df.head()"
   ]
  }
 ],
 "metadata": {
  "colab": {
   "provenance": []
  },
  "kernelspec": {
   "display_name": "Python 3 (ipykernel)",
   "language": "python",
   "name": "python3"
  },
  "language_info": {
   "codemirror_mode": {
    "name": "ipython",
    "version": 3
   },
   "file_extension": ".py",
   "mimetype": "text/x-python",
   "name": "python",
   "nbconvert_exporter": "python",
   "pygments_lexer": "ipython3",
   "version": "3.9.7"
  }
 },
 "nbformat": 4,
 "nbformat_minor": 5
}
